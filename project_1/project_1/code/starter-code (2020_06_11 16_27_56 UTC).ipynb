{
 "cells": [
  {
   "cell_type": "markdown",
   "metadata": {},
   "source": [
    "# Project 1: SAT & ACT Analysis"
   ]
  },
  {
   "cell_type": "markdown",
   "metadata": {},
   "source": [
    "## Problem Statement"
   ]
  },
  {
   "cell_type": "markdown",
   "metadata": {},
   "source": [
    "The CollegeBoard is the organization that administers the SAT in order to make it easier for educational institutions to judge the academic proficiencies of their applicants and more importantly expand access to higher education opportunities through college planning services, career assistance, and other services. While they are a not-for-profit organization, higher funds would enable them to provide better services that help students all over the country find the best path through their academic journey to meet their eventual career goals. The CollegeBoard gains their revenue from registration fees paid by students who want to take the test for college applications. While being a prominent test that many colleges accept, the SAT competes with the ACT across the country for the preferred diagnostic test of academic proficiency for pre college education. This report will recommend what the best strategy would be to increase SAT participation rates and which states to implement the strategy in order to compete with other standardized test providers in the country and provide a better suite of education services to students nationwide. \n",
    "\n",
    "[What is The Collegeboard](https://www.studentdebtrelief.us/college-tips/collegeboard-org/)"
   ]
  },
  {
   "cell_type": "markdown",
   "metadata": {},
   "source": [
    "## Executive Summary\n",
    "\n",
    "If you want to, it's great to use relative links to direct your audience to various sections of a notebook. **HERE'S A DEMONSTRATION WITH THE CURRENT SECTION HEADERS**:\n",
    "\n",
    "### Contents:\n",
    "- [2017 Data Import & Cleaning](#2017-Data-Import-and-Cleaning)\n",
    "- [2018 Data Import and Cleaning](#2018-Data-Import-and-Cleaning)\n",
    "- [Combined Data Dictionary](#Combined-Data-Dictionary)\n",
    "- [Exploratory Data Analysis](#Exploratory-Data-Analysis)\n",
    "- [Data Visualization](#Visualize-the-data)\n",
    "- [Outside Research](#Outside-Research)\n",
    "    * [Government Contracts yield 100% Participation](#States-with-Government-Contracts-and-100%-Participation)\n",
    "    * [Change in SAT ACT Participation](#Change-in-SAT-ACT-Participation)\n",
    "\n",
    "- [Conclusions and Recommendations](#Conclusions-and-Recommendations)"
   ]
  },
  {
   "cell_type": "markdown",
   "metadata": {},
   "source": [
    "**If you combine your problem statement, executive summary, data dictionary, and conclusions/recommendations, you have an amazing README.md file that quickly aligns your audience to the contents of your project.** Don't forget to cite your data sources!"
   ]
  },
  {
   "cell_type": "markdown",
   "metadata": {},
   "source": [
    "*All libraries used should be added here*"
   ]
  },
  {
   "cell_type": "code",
   "execution_count": null,
   "metadata": {},
   "outputs": [],
   "source": [
    "#Imports:\n",
    "import numpy as np\n",
    "import scipy.stats as stats\n",
    "import pandas as pd\n",
    "import matplotlib.pyplot as plt\n",
    "import seaborn as sns\n",
    "%matplotlib inline"
   ]
  },
  {
   "cell_type": "markdown",
   "metadata": {},
   "source": [
    "## 2017 Data Import and Cleaning"
   ]
  },
  {
   "cell_type": "markdown",
   "metadata": {},
   "source": [
    "#### 1. Read In SAT & ACT  Data\n",
    "\n",
    "Read in the `sat_2017.csv` and `act_2017.csv` files and assign them to appropriately named pandas dataframes."
   ]
  },
  {
   "cell_type": "code",
   "execution_count": null,
   "metadata": {},
   "outputs": [],
   "source": [
    "act_2017 = pd.read_csv('../data/act_2017.csv')\n",
    "sat_2017 = pd.read_csv('../data/sat_2017.csv')"
   ]
  },
  {
   "cell_type": "markdown",
   "metadata": {},
   "source": [
    "#### 2. Display Data\n",
    "\n",
    "Print the first 10 rows of each dataframe to your jupyter notebook"
   ]
  },
  {
   "cell_type": "code",
   "execution_count": null,
   "metadata": {},
   "outputs": [],
   "source": [
    "act_2017.head(10)"
   ]
  },
  {
   "cell_type": "code",
   "execution_count": null,
   "metadata": {},
   "outputs": [],
   "source": [
    "sat_2017.head(10)"
   ]
  },
  {
   "cell_type": "markdown",
   "metadata": {},
   "source": [
    "#### 3. Verbally Describe Data\n",
    "\n",
    "Take your time looking through the data and thoroughly describe the data in the markdown cell below. "
   ]
  },
  {
   "cell_type": "markdown",
   "metadata": {},
   "source": [
    "##### Answer:\n",
    "The ACT data set for 2017 contains the mean scores in each section of the exam (English, Math, Reading, and Science) along with mean composite score of each section, % of the population that took the exam for each of the 50 states, Washington DC, and for the whole Nation. \n",
    "**write more about .describe() stats for both datasets**\n",
    "\n",
    "The SAT data set for 2017 contains the mean scores in each section of the exam (Evidence-Based Reading and Writing, and Math), the total of mean scores for both sections, and % participation for each state of the country and also Washington DC.\n",
    "**write more about .describe() stats for both datasets**"
   ]
  },
  {
   "cell_type": "markdown",
   "metadata": {},
   "source": [
    "#### 4a. Does the data look complete? "
   ]
  },
  {
   "cell_type": "markdown",
   "metadata": {},
   "source": [
    "##### Answer: \n",
    "\n",
    "The ACT data for 2017 has all scores and composites for each state, DC, and also the National mean and is therefore a complete dataset. \n",
    "\n",
    "The SAT data for 2017 has all the scores and composites for each state and DC. It is missing the National mean but it can be argued that the national mean can be calculated later if need be for future comparison and therefore the raw data set is still complete."
   ]
  },
  {
   "cell_type": "markdown",
   "metadata": {},
   "source": [
    "#### 4b. Are there any obvious issues with the observations?\n",
    "\n",
    "**What is the minimum *possible* value for each test/subtest? What is the maximum *possible* value?**\n",
    "\n",
    "Consider comparing any questionable values to the sources of your data:\n",
    "- [SAT](https://blog.collegevine.com/here-are-the-average-sat-scores-by-state/)\n",
    "- [ACT](https://blog.prepscholar.com/act-scores-by-state-averages-highs-and-lows)"
   ]
  },
  {
   "cell_type": "markdown",
   "metadata": {},
   "source": [
    "##### Answer:  \n",
    "\n",
    "The minimum possible composite score for the ACT is a **1** out of a maximum composite score of **36**. The composite score is calculated by taking the mean of the individual section scores rounding up to the nearest integer if a float value with a **.5** or higher decimal is resulted. Therefore, the minimum score for each section must be a **1**, or a **2** as long as only one section is a score of **2** while the other three sections resulted in **1s**. Inverserly, the maximum score composite score can be achieved by earning the max score of **36** points per section.  \n",
    "[What is the Minimum ACT Score for COllege? - Ellen McCammon](https://blog.prepscholar.com/minimum-act-score-for-college)  \n",
    "[ACT Expert Guide: What's the Highest Possible ACT Score? - Halle Edwards](https://blog.prepscholar.com/whats-the-highest-possible-act-score)\n",
    "\n",
    "The composite score for the updated SAT is calculated by taking the sum of the scores for the ___Evidence-Based Reading and Writing___ section and the ___Math___ section. The minimum possible score you can get in each section is a **200** which would mean the lowest score you can get for the whole exam is **400**. Inversely, the highest possible score you can earn is **1600** points with perfect scores of **800** points per section.  \n",
    "[What's the Lowest SAT Score Possible? How Many Get It? - Halle Edwards](https://blog.prepscholar.com/whats-the-lowest-sat-score-possible-how-many-get-it)  \n",
    "[What's the Highest Possible SAT Score? - Halle Edwards](https://blog.prepscholar.com/whats-the-highest-possible-sat-score)"
   ]
  },
  {
   "cell_type": "markdown",
   "metadata": {},
   "source": [
    "#### 4c. Fix any errors you identified\n",
    "\n",
    "**The data is available** so there's no need to guess or calculate anything. If you didn't find any errors, continue to the next step."
   ]
  },
  {
   "cell_type": "markdown",
   "metadata": {},
   "source": [
    "### fixing errors in act_2017.csv"
   ]
  },
  {
   "cell_type": "code",
   "execution_count": null,
   "metadata": {},
   "outputs": [],
   "source": [
    "#checking if any ACT Composite scores are lower than lowest possible score.\n",
    "act_2017.sort_values(by = 'Composite', ascending = True).head() "
   ]
  },
  {
   "cell_type": "code",
   "execution_count": null,
   "metadata": {},
   "outputs": [],
   "source": [
    "#checking if any ACT Composite scores are higher than highest possible score.\n",
    "act_2017.sort_values(by = 'Composite', ascending= False).head()"
   ]
  },
  {
   "cell_type": "code",
   "execution_count": null,
   "metadata": {},
   "outputs": [],
   "source": [
    "#Check if SAT scores less than min possible SAT score for Evidence-Based Reading and Writing\n",
    "Read_Write_score_lessthan_200 = sat_2017['Evidence-Based Reading and Writing'] <= 200\n",
    "error_min_Reading_Writing = sat_2017[Read_Write_score_lessthan_200]\n",
    "#if error_min_Reading_Writing.isnull().sum() == 0:\n",
    "error_min_Reading_Writing"
   ]
  },
  {
   "cell_type": "code",
   "execution_count": null,
   "metadata": {},
   "outputs": [],
   "source": [
    "#Check if SAT scores less than min possible SAT score for Math\n",
    "Math_score_lessthan_200 = sat_2017['Math'] <= 200\n",
    "error_min_Math = sat_2017[Math_score_lessthan_200]\n",
    "error_min_Math"
   ]
  },
  {
   "cell_type": "markdown",
   "metadata": {},
   "source": [
    "The math score here is below the lowest possible score of 200. Looking at the data we can infer that the math score should be the difference of the Total score and the Reading and Writing score(524) points"
   ]
  },
  {
   "cell_type": "code",
   "execution_count": null,
   "metadata": {},
   "outputs": [],
   "source": [
    "#Redefining Math Score Correctly\n",
    "sat_2017['Math'][20] = 524"
   ]
  },
  {
   "cell_type": "code",
   "execution_count": null,
   "metadata": {},
   "outputs": [],
   "source": [
    "#Checking whether the change was saved to the dataframe.\n",
    "sat_2017.loc[20,:].to_frame().T #Error was fixed"
   ]
  },
  {
   "cell_type": "markdown",
   "metadata": {},
   "source": [
    "No other errors were value errrors observed in the SAT dataset"
   ]
  },
  {
   "cell_type": "markdown",
   "metadata": {},
   "source": [
    "#### 5. What are your data types? \n",
    "Display the data types of each feature. "
   ]
  },
  {
   "cell_type": "code",
   "execution_count": null,
   "metadata": {},
   "outputs": [],
   "source": [
    "act_2017.dtypes"
   ]
  },
  {
   "cell_type": "code",
   "execution_count": null,
   "metadata": {},
   "outputs": [],
   "source": [
    "sat_2017.dtypes"
   ]
  },
  {
   "cell_type": "markdown",
   "metadata": {},
   "source": [
    "What did you learn?\n",
    "- Do any of them seem odd?  \n",
    "- Which ones are not as they should be?  "
   ]
  },
  {
   "cell_type": "markdown",
   "metadata": {},
   "source": [
    "#### Answer:\n",
    "\n",
    "For the 2017 ACT dataset, the **Participation** column and **Composite** column would be expected to be either float datatypes or int datatypes as they both contain numerical data and not categorical data.\n",
    "The **Participation** column is being recognized as an object because the '%' sign is making the values strings. The **Composite** column is being considered an object because there is a faulty element that contains a string typo instead of a float (20.2x instead of 20.2).  \n",
    "\n",
    "The 2017 SAT dataset, the **Participation** feature has the same object type mismatch as the the ACT dataset when it should be a float. The rest of the features' datatypes are int64 as desired. "
   ]
  },
  {
   "cell_type": "markdown",
   "metadata": {},
   "source": [
    "#### 6. Fix Incorrect Data Types\n",
    "Based on what you discovered above, use appropriate methods to re-type incorrectly typed data.\n",
    "- Define a function that will allow you to convert participation rates to an appropriate numeric type. Use `map` or `apply` to change these columns in each dataframe."
   ]
  },
  {
   "cell_type": "code",
   "execution_count": null,
   "metadata": {},
   "outputs": [],
   "source": [
    "def percent_convert(string):\n",
    "    if '%' in string:\n",
    "        return float(string.replace('%',''))"
   ]
  },
  {
   "cell_type": "markdown",
   "metadata": {},
   "source": [
    "- Use function to convert Participation values to floats"
   ]
  },
  {
   "cell_type": "code",
   "execution_count": null,
   "metadata": {},
   "outputs": [],
   "source": [
    "act_2017['Participation'] = act_2017['Participation'].map(percent_convert);"
   ]
  },
  {
   "cell_type": "code",
   "execution_count": null,
   "metadata": {},
   "outputs": [],
   "source": [
    "sat_2017['Participation'] = sat_2017['Participation'].map(percent_convert);"
   ]
  },
  {
   "cell_type": "code",
   "execution_count": null,
   "metadata": {},
   "outputs": [],
   "source": [
    "act_2017.dtypes #Participation column succesfully edited "
   ]
  },
  {
   "cell_type": "code",
   "execution_count": null,
   "metadata": {},
   "outputs": [],
   "source": [
    "sat_2017.dtypes #Participation column succesfully edited"
   ]
  },
  {
   "cell_type": "markdown",
   "metadata": {},
   "source": [
    "- Fix any individual values preventing other columns from being the appropriate type."
   ]
  },
  {
   "cell_type": "code",
   "execution_count": null,
   "metadata": {
    "scrolled": true
   },
   "outputs": [],
   "source": [
    "#Composite column in act_2017 dataset is still showing object datatype\n",
    "#Redefine error composite value as the mean of each section score\n",
    "act_2017.loc[51,\"Composite\"] = 20.2\n",
    "\n",
    "# Note to self: this would be a way to impute with mean, but not doing so here since we know the true value\n",
    "# act_2017['Composite'][51] = round(np.mean(act_2017.iloc[51,2:6]),1)"
   ]
  },
  {
   "cell_type": "code",
   "execution_count": null,
   "metadata": {},
   "outputs": [],
   "source": [
    "act_2017.tail(1) #Composite value successfully edited"
   ]
  },
  {
   "cell_type": "markdown",
   "metadata": {},
   "source": [
    "- Finish your data modifications by making sure the columns are now typed appropriately."
   ]
  },
  {
   "cell_type": "code",
   "execution_count": null,
   "metadata": {},
   "outputs": [],
   "source": [
    "act_2017.dtypes #Composite Column still shows as object dtype"
   ]
  },
  {
   "cell_type": "code",
   "execution_count": null,
   "metadata": {},
   "outputs": [],
   "source": [
    "#converted all values under the composite column to a float dtype\n",
    "act_2017['Composite'] = act_2017['Composite'].map(lambda x: float(x))"
   ]
  },
  {
   "cell_type": "markdown",
   "metadata": {},
   "source": [
    "- Display the data types again to confirm they are correct."
   ]
  },
  {
   "cell_type": "code",
   "execution_count": null,
   "metadata": {},
   "outputs": [],
   "source": [
    "sat_2017.dtypes #all dtypes have been corrected"
   ]
  },
  {
   "cell_type": "code",
   "execution_count": null,
   "metadata": {},
   "outputs": [],
   "source": [
    "act_2017.dtypes #all dtypes have been corrected"
   ]
  },
  {
   "cell_type": "code",
   "execution_count": null,
   "metadata": {},
   "outputs": [],
   "source": [
    "act_2017.head()"
   ]
  },
  {
   "cell_type": "code",
   "execution_count": null,
   "metadata": {},
   "outputs": [],
   "source": [
    "sat_2017.head()"
   ]
  },
  {
   "cell_type": "markdown",
   "metadata": {},
   "source": [
    "#### 7. Rename Columns\n",
    "Change the names of the columns to more expressive names so that you can tell the difference the SAT columns and the ACT columns. Your solution should map all column names being changed at once (no repeated singular name-changes). **We will be combining these data with some of the data from 2018, and so you should name columns in an appropriate way**.\n",
    "\n",
    "**Guidelines**:\n",
    "- Column names should be all lowercase (you will thank yourself when you start pushing data to SQL later in the course)\n",
    "- Column names should not contain spaces (underscores will suffice--this allows for using the `df.column_name` method to access columns in addition to `df['column_name']`.\n",
    "- Column names should be unique and informative (the only feature that we actually share between dataframes is the state)."
   ]
  },
  {
   "cell_type": "code",
   "execution_count": null,
   "metadata": {},
   "outputs": [],
   "source": [
    "new_act_2017_columns = {'State':'state',\n",
    "                   'Participation':'act_2017_pct_participation',\n",
    "                   'English':'act_2017_english',\n",
    "                   'Math':'act_2017_math',\n",
    "                   'Reading':'act_2017_reading',\n",
    "                   'Science':'act_2017_science',\n",
    "                   'Composite':'act_2017_composite'}\n",
    "new_sat_2017_columns = {'State':'state',\n",
    "                   'Participation':'sat_2017_pct_participation',\n",
    "                   'Evidence-Based Reading and Writing':'sat_2017_reading_writing',\n",
    "                   'Math':'sat_2017_math',\n",
    "                   'Total':'sat_2017_total'}\n",
    "act_2017.rename(columns = new_act_2017_columns, inplace = True)\n",
    "sat_2017.rename(columns = new_sat_2017_columns, inplace = True)"
   ]
  },
  {
   "cell_type": "code",
   "execution_count": null,
   "metadata": {},
   "outputs": [],
   "source": [
    "act_2017.head()"
   ]
  },
  {
   "cell_type": "code",
   "execution_count": null,
   "metadata": {},
   "outputs": [],
   "source": [
    "sat_2017.head()"
   ]
  },
  {
   "cell_type": "markdown",
   "metadata": {},
   "source": [
    "#### 8. Create a data dictionary\n",
    "\n",
    "Now that we've fixed our data, and given it appropriate names, let's create a [data dictionary](http://library.ucmerced.edu/node/10249). \n",
    "\n",
    "A data dictionary provides a quick overview of features/variables/columns, alongside data types and descriptions. The more descriptive you can be, the more useful this document is.\n",
    "\n",
    "Example of a Fictional Data Dictionary Entry: \n",
    "\n",
    "|Feature|Type|Dataset|Description|\n",
    "|---|---|---|---|\n",
    "|**county_pop**|*integer*|2010 census|The population of the county (units in thousands, where 2.5 represents 2500 people).| \n",
    "|**per_poverty**|*float*|2010 census|The percent of the county over the age of 18 living below the 200% of official US poverty rate (units percent to two decimal places 98.10 means 98.1%)|\n",
    "\n",
    "[Here's a quick link to a short guide for formatting markdown in Jupyter notebooks](https://jupyter-notebook.readthedocs.io/en/stable/examples/Notebook/Working%20With%20Markdown%20Cells.html).\n",
    "\n",
    "Provided is the skeleton for formatting a markdown table, with columns headers that will help you create a data dictionary to quickly summarize your data, as well as some examples. **This would be a great thing to copy and paste into your custom README for this project.**"
   ]
  },
  {
   "cell_type": "markdown",
   "metadata": {},
   "source": [
    "|Feature|Type|Dataset|Description|\n",
    "|---|---|---|---|\n",
    "|column name|int/float/object|ACT/SAT|This is an example| \n"
   ]
  },
  {
   "cell_type": "markdown",
   "metadata": {},
   "source": [
    "#### 9. Drop unnecessary rows\n",
    "\n",
    "One of our dataframes contains an extra row. Identify and remove this from the dataframe."
   ]
  },
  {
   "cell_type": "code",
   "execution_count": null,
   "metadata": {},
   "outputs": [],
   "source": [
    "act_2017.drop(index = 0, inplace = True)\n",
    "act_2017.info()"
   ]
  },
  {
   "cell_type": "code",
   "execution_count": null,
   "metadata": {},
   "outputs": [],
   "source": [
    "sat_2017.info()"
   ]
  },
  {
   "cell_type": "markdown",
   "metadata": {},
   "source": [
    "#### 10. Merge Dataframes\n",
    "\n",
    "Join the 2017 ACT and SAT dataframes using the state in each dataframe as the key. Assign this to a new variable."
   ]
  },
  {
   "cell_type": "code",
   "execution_count": null,
   "metadata": {},
   "outputs": [],
   "source": [
    "combined_2017 = pd.merge(left = act_2017, right = sat_2017, on = 'state')"
   ]
  },
  {
   "cell_type": "markdown",
   "metadata": {},
   "source": [
    "#### 11. Save your cleaned, merged dataframe\n",
    "\n",
    "Use a relative path to save out your data as `combined_2017.csv`."
   ]
  },
  {
   "cell_type": "code",
   "execution_count": null,
   "metadata": {},
   "outputs": [],
   "source": [
    "combined_2017.to_csv('../data/combined_2017.csv')"
   ]
  },
  {
   "cell_type": "markdown",
   "metadata": {},
   "source": [
    "## 2018 Data Import and Cleaning"
   ]
  },
  {
   "cell_type": "markdown",
   "metadata": {},
   "source": [
    "Links to the 2018 ACT and SAT data are provided in the README. These data live in PDFs, and so you'll get to enjoy practicing some *manual* data collection. Save these data as a CSV in your `data` directory, and import, explore, and clean these data in the same way you did above. **Make sure you comment on your steps so it is clear *why* you are doing each process**."
   ]
  },
  {
   "cell_type": "markdown",
   "metadata": {},
   "source": [
    "#### 1. Import 2018 ACT and SAT data"
   ]
  },
  {
   "cell_type": "code",
   "execution_count": null,
   "metadata": {},
   "outputs": [],
   "source": [
    "sat_2018 = pd.read_csv('../data/sat_2018.csv')\n",
    "act_2018 = pd.read_csv('../data/act_2018.csv')"
   ]
  },
  {
   "cell_type": "markdown",
   "metadata": {},
   "source": [
    "#### 2. Cleaning the 2018 SAT data"
   ]
  },
  {
   "cell_type": "code",
   "execution_count": null,
   "metadata": {},
   "outputs": [],
   "source": [
    "sat_2018.info()"
   ]
  },
  {
   "cell_type": "code",
   "execution_count": null,
   "metadata": {},
   "outputs": [],
   "source": [
    "act_2018.info()"
   ]
  },
  {
   "cell_type": "code",
   "execution_count": null,
   "metadata": {},
   "outputs": [],
   "source": [
    "act_2018.describe(include = 'all')"
   ]
  },
  {
   "cell_type": "markdown",
   "metadata": {},
   "source": [
    "##### Issues found:  \n",
    "1. Participation columns for both 2018 datasets are object dtypes again. The datatypes for the Participation series elements will need to be converted to be rewritten and converted to floats.\n",
    "- Number of rows for the ACT 2018 dataset is once again one larger than necessary but the extra row is not the National mean scores which means there is another extra value to search for. The **`.describe(include = 'all')`** method shows a count of 52 for the State column but only 51 of them are unique. It also shows that the top occuring value is `Maine` with frequency of **2**. One of the rows containing `Maine` will need to be removed. \n",
    "- Column names for both 2018 datasets will need to be renamed to descriptive of the tests, and the years they relate to.\n",
    "- ACT 2018 dataset does not include individual section scores but that may not be an issue as the columns necessary for merging dataframes with the other datasets are still available."
   ]
  },
  {
   "cell_type": "code",
   "execution_count": null,
   "metadata": {},
   "outputs": [],
   "source": [
    "#Issue 1\n",
    "sat_2018['Participation'] = sat_2018['Participation'].map(percent_convert);\n",
    "sat_2018.head()"
   ]
  },
  {
   "cell_type": "code",
   "execution_count": null,
   "metadata": {},
   "outputs": [],
   "source": [
    "#Issue 1\n",
    "act_2018['Participation'] = act_2018['Participation'].map(percent_convert);\n",
    "act_2018.head()"
   ]
  },
  {
   "cell_type": "code",
   "execution_count": null,
   "metadata": {},
   "outputs": [],
   "source": [
    "#Issue 2\n",
    "act_2018.drop(index = 19, inplace = True)\n",
    "act_2018.info() #number of rows and dtypes are appropriate"
   ]
  },
  {
   "cell_type": "code",
   "execution_count": null,
   "metadata": {},
   "outputs": [],
   "source": [
    "sat_2018.info() #dtypes are appropriate"
   ]
  },
  {
   "cell_type": "code",
   "execution_count": null,
   "metadata": {},
   "outputs": [],
   "source": [
    "#Issue 3\n",
    "new_act_2018_columns = {'State':'state',\n",
    "                       'Participation':'act_2018_pct_participation',\n",
    "                       'Composite':'act_2018_composite'}\n",
    "new_sat_2018_columns = {'State':'state',\n",
    "                        'Participation':'sat_2018_pct_participation',\n",
    "                        'Evidence-Based Reading and Writing':'sat_2018_reading_writing',\n",
    "                        'Math':'sat_2018_math',\n",
    "                        'Total':'sat_2018_total'}\n",
    "act_2018.rename(columns = new_act_2018_columns, inplace = True)\n",
    "sat_2018.rename(columns= new_sat_2018_columns, inplace= True)"
   ]
  },
  {
   "cell_type": "code",
   "execution_count": null,
   "metadata": {},
   "outputs": [],
   "source": [
    "act_2018.head(1)"
   ]
  },
  {
   "cell_type": "code",
   "execution_count": null,
   "metadata": {},
   "outputs": [],
   "source": [
    "sat_2018.head(1)"
   ]
  },
  {
   "cell_type": "markdown",
   "metadata": {},
   "source": [
    "#### Combine your 2017 and 2018 data into a single dataframe\n",
    "Joining on state names should work, assuming you formatted all your state names identically. Make sure none of your columns (other than state) have identical names. Do yourself a favor and decide if you're encoding participation rates as floats or integers and standardize this across your datasets.\n",
    "\n",
    "Save the contents of this merged dataframe as `final.csv`.\n",
    "\n",
    "**Use this combined dataframe for the remainder of the project**."
   ]
  },
  {
   "cell_type": "code",
   "execution_count": null,
   "metadata": {},
   "outputs": [],
   "source": [
    "combined_2018 = pd.merge(left = act_2018, right = sat_2018, on = 'state')\n",
    "combined_2018.to_csv('../data/combine_2018.csv')\n",
    "final = pd.merge(left = combined_2017, right = combined_2018, on = 'state')\n",
    "final.to_csv('../data/final.csv')"
   ]
  },
  {
   "cell_type": "code",
   "execution_count": null,
   "metadata": {},
   "outputs": [],
   "source": [
    "final.head()"
   ]
  },
  {
   "cell_type": "markdown",
   "metadata": {},
   "source": [
    "# Combined Data Dictionary\n",
    "\n",
    "|Feature|Type|Affiliated Test|Description|\n",
    "|---|---|---|---|\n",
    "|**state**|*string*|both|The state for which test scores and statistics were recorded| \n",
    "|**act_2017_pct_participation**|*float*|ACT|Percentage of total students who took the ACT in 2017|\n",
    "|**act_2017_english**|*float*|ACT|Mean score for the English section of the 2017 ACT|\n",
    "|**act_2017_math**|*float*|ACT|Mean score for the Math section of the 2017 ACT|\n",
    "|**act_2017_reading**|*float*|ACT|Mean score for the reading section of the 2017 ACT|\n",
    "|**act_2017_science**|*float*|ACT|Mean score for the science section of the 2017 ACT|\n",
    "|**act_2017_composite**|*float*|ACT|Mean composite score for the 2017 ACT|\n",
    "|**sat_2017_pct_participation**|*float*|SAT|Percentage of total students who took the SAT in 2017|\n",
    "|**sat_2017_reading_writing**|*int*|SAT|Mean score for Evidence-based reading and writing section of the 2017 SAT|\n",
    "|**sat_2017_math**|*int*|SAT|Mean score for the math section of the 2017 SAT|\n",
    "|**sat_2017_total**|*int*|SAT|Mean total score for the 2017 SAT|\n",
    "|**act_2018_pct_participation**|*float*|ACT|Percentage of total students who took the SAT in 2018|\n",
    "|**act_2018_composite**|*float*|ACT|Mean composite score for the 2018 ACT|\n",
    "|**sat_2018_pct_participation**|*float*|SAT|Percentage of total students who took the SAT in 2018|\n",
    "|**sat_2018_reading_writing**|*int*|SAT|Mean score for Evidence-based reading and writing section of the 2018 SAT|\n",
    "|**sat_2018_math**|*int*|SAT|Mean score for the math section of the 2018 SAT|\n",
    "|**sat_2018_total**|*int*|SAT|Mean total score for the 2018 SAT|\n"
   ]
  },
  {
   "cell_type": "markdown",
   "metadata": {},
   "source": [
    "## Exploratory Data Analysis\n",
    "\n",
    "\n",
    "### Summary Statistics\n",
    "Transpose the output of pandas `describe` method to create a quick overview of each numeric feature."
   ]
  },
  {
   "cell_type": "code",
   "execution_count": null,
   "metadata": {},
   "outputs": [],
   "source": [
    "final.describe().T"
   ]
  },
  {
   "cell_type": "markdown",
   "metadata": {},
   "source": [
    "#### Manually calculate standard deviation\n",
    "\n",
    "$$\\sigma = \\sqrt{\\frac{1}{n}\\sum_{i=1}^n(x_i - \\mu)^2}$$\n",
    "\n",
    "- Write a function to calculate standard deviation using the formula above"
   ]
  },
  {
   "cell_type": "code",
   "execution_count": null,
   "metadata": {},
   "outputs": [],
   "source": [
    "def standard_dev(sample):\n",
    "    import math\n",
    "    var_sum = 0\n",
    "    mu = sum(sample)/len(sample)\n",
    "    for i in range(len(sample)):\n",
    "        var_sum += (sample[i] - mu)**2\n",
    "        n_sum = var_sum/(len(sample)-1)\n",
    "    standard_d = math.sqrt(n_sum)\n",
    "    return standard_d"
   ]
  },
  {
   "cell_type": "code",
   "execution_count": null,
   "metadata": {},
   "outputs": [],
   "source": [
    "sd = {column.name: standard_dev(column) for column in [final[i] for i in final.columns if (final[i].dtype == 'float64') or (final[i].dtype == 'int64')]}"
   ]
  },
  {
   "cell_type": "markdown",
   "metadata": {},
   "source": [
    "- Use a **dictionary comprehension** to apply your standard deviation function to each numeric column in the dataframe.  **No loops**  \n",
    "- Assign the output to variable `sd` as a dictionary where: \n",
    "    - Each column name is now a key \n",
    "    - That standard deviation of the column is the value \n",
    "     \n",
    "*Example Output :* `{'ACT_Math': 120, 'ACT_Reading': 120, ...}`"
   ]
  },
  {
   "cell_type": "code",
   "execution_count": null,
   "metadata": {},
   "outputs": [],
   "source": [
    "{col.name: standard_dev(col) for col in [final[i] for i in final.columns if (final[i].dtype=='float64') or (final[i].dtype=='int64')]}"
   ]
  },
  {
   "cell_type": "markdown",
   "metadata": {},
   "source": [
    "Do your manually calculated standard deviations match up with the output from pandas `describe`? What about numpy's `std` method?"
   ]
  },
  {
   "cell_type": "code",
   "execution_count": null,
   "metadata": {},
   "outputs": [],
   "source": [
    "{col.name: np.std(col) for col in [final[i] for i in final.columns if (final[i].dtype=='float64') or (final[i].dtype=='int64')]}"
   ]
  },
  {
   "cell_type": "code",
   "execution_count": null,
   "metadata": {},
   "outputs": [],
   "source": [
    "{col.name: col.describe() for col in [final[i] for i in final.columns if (final[i].dtype=='float64') or (final[i].dtype=='int64')]}"
   ]
  },
  {
   "cell_type": "markdown",
   "metadata": {},
   "source": [
    "##### Answer\n",
    "np.std and the function I modeled after the given equation both yield the same values for std. However, the .describe yields a slightly different standard deviation because the .describe divides the cumulative sum of variances by n-1. The standard deviation calculated in the .describe method is meant for large sample sizes and meant to approximate the population standard deviation. "
   ]
  },
  {
   "cell_type": "markdown",
   "metadata": {},
   "source": [
    "#### Investigate trends in the data\n",
    "Using sorting and/or masking (along with the `.head` method to not print our entire dataframe), consider the following questions:\n",
    "\n",
    "- Which states have the highest and lowest participation rates for the:\n",
    "    - 2017 SAT?\n",
    "    - 2018 SAT?\n",
    "    - 2017 ACT?\n",
    "    - 2018 ACT?\n",
    "- Which states have the highest and lowest mean total/composite scores for the:\n",
    "    - 2017 SAT?\n",
    "    - 2018 SAT?\n",
    "    - 2017 ACT?\n",
    "    - 2018 ACT?\n",
    "- Do any states with 100% participation on a given test have a rate change year-to-year?\n",
    "- Do any states show have >50% participation on *both* tests either year?\n",
    "\n",
    "Based on what you've just observed, have you identified any states that you're especially interested in? **Make a note of these and state *why* you think they're interesting**.\n",
    "\n",
    "**You should comment on your findings at each step in a markdown cell below your code block**. Make sure you include at least one example of sorting your dataframe by a column, and one example of using boolean filtering (i.e., masking) to select a subset of the dataframe."
   ]
  },
  {
   "cell_type": "code",
   "execution_count": null,
   "metadata": {},
   "outputs": [],
   "source": [
    "#States with lowest participation rates in 2017 SAT using .sort_values\n",
    "final[['state','sat_2017_pct_participation']].sort_values(['sat_2017_pct_participation'])"
   ]
  },
  {
   "cell_type": "code",
   "execution_count": null,
   "metadata": {},
   "outputs": [],
   "source": [
    "#States with highest participation rates in 2017 SAT using .sort_values\n",
    "final[['state','sat_2017_pct_participation']].sort_values(['sat_2017_pct_participation'],ascending = False).head(10)"
   ]
  },
  {
   "cell_type": "code",
   "execution_count": null,
   "metadata": {},
   "outputs": [],
   "source": [
    "#States with lowest participation rates in 2018 SAT using .sort_values\n",
    "final[['state','sat_2018_pct_participation']].sort_values(['sat_2018_pct_participation']).head(10)"
   ]
  },
  {
   "cell_type": "code",
   "execution_count": null,
   "metadata": {},
   "outputs": [],
   "source": [
    "#States with highest participation rates in 2018 SAT using .sort_values\n",
    "final[['state','sat_2018_pct_participation']].sort_values(['sat_2018_pct_participation'],ascending = False).head(10)"
   ]
  },
  {
   "cell_type": "code",
   "execution_count": null,
   "metadata": {},
   "outputs": [],
   "source": [
    "#States with lowest participation rates in 2017 ACT using .sort_values\n",
    "final[['state','act_2017_pct_participation']].sort_values(['act_2017_pct_participation']).head(10)"
   ]
  },
  {
   "cell_type": "code",
   "execution_count": null,
   "metadata": {},
   "outputs": [],
   "source": [
    "#States with highest participation rates in 2018 ACT using .sort_values\n",
    "final[['state','act_2018_pct_participation']].sort_values(['act_2018_pct_participation'], ascending = False).head(10)"
   ]
  },
  {
   "cell_type": "code",
   "execution_count": null,
   "metadata": {},
   "outputs": [],
   "source": [
    "#States with highest participation rates in 2017 and 2018 SAT using .sort_values\n",
    "final[['state','state','sat_2017_pct_participation','sat_2018_pct_participation']].sort_values(['sat_2017_pct_participation'], ascending = False).sort_values(['sat_2018_pct_participation'], ascending = False).head(10)"
   ]
  },
  {
   "cell_type": "markdown",
   "metadata": {},
   "source": [
    "Illinois and Idaho changed participation rates from 11% and 93% to 100% respectively. The Illinois jump in SAT participation is especially interesting considering the vast increase in participation in just one year. "
   ]
  },
  {
   "cell_type": "code",
   "execution_count": null,
   "metadata": {},
   "outputs": [],
   "source": [
    "#States with lowest participation in 2017 ACT\n",
    "act_2017[['state','act_2017_pct_participation']].sort_values('act_2017_pct_participation').head(1)"
   ]
  },
  {
   "cell_type": "code",
   "execution_count": null,
   "metadata": {},
   "outputs": [],
   "source": [
    "#States with the highest participation rates in 2017 ACT\n",
    "act_2017[['state','act_2017_pct_participation']].sort_values('act_2017_pct_participation', ascending = False).head(17)"
   ]
  },
  {
   "cell_type": "code",
   "execution_count": null,
   "metadata": {},
   "outputs": [],
   "source": [
    "#States with the highest participation rates in 2018 ACT\n",
    "act_2018[['state','act_2018_pct_participation']].sort_values('act_2018_pct_participation', ascending = False).head(17)"
   ]
  },
  {
   "cell_type": "code",
   "execution_count": null,
   "metadata": {},
   "outputs": [],
   "source": [
    "#States with lowest participation rates in 2017 and 2018 SAT using .sort_values\n",
    "final.loc[final['sat_2017_total'] == final['sat_2017_total'].max(),['state','sat_2017_total']]"
   ]
  },
  {
   "cell_type": "code",
   "execution_count": null,
   "metadata": {},
   "outputs": [],
   "source": [
    "final.loc[(final['sat_2017_total'] > 1200) & (final['sat_2018_total'] > 1200),['state', 'sat_2017_total', 'sat_2018_total']]"
   ]
  },
  {
   "cell_type": "markdown",
   "metadata": {},
   "source": [
    "## Visualize the data\n",
    "\n",
    "There's not a magic bullet recommendation for the right number of plots to understand a given dataset, but visualizing your data is *always* a good idea. Not only does it allow you to quickly convey your findings (even if you have a non-technical audience), it will often reveal trends in your data that escaped you when you were looking only at numbers.\n",
    "\n",
    "Some recommendations on plotting:\n",
    "- Plots have titles\n",
    "- Plots have axis labels\n",
    "- Plots have appropriate tick labels\n",
    "- All text is legible in a plot\n",
    "- Plots demonstrate meaningful and valid relationships\n",
    "- Plots are interpreted to aid understanding\n",
    "\n",
    "There is such a thing as too many plots, and there are a *lot* of bad plots. You might make some! (But hopefully not with the guided prompts below)."
   ]
  },
  {
   "cell_type": "markdown",
   "metadata": {},
   "source": [
    "#### Use Seaborn's heatmap with pandas `.corr()` to visualize correlations between all numeric features\n",
    "\n",
    "Heatmaps are generally not appropriate for presentations, and should often be excluded from reports as they can be visually overwhelming. **However**, they can be extremely useful in identify relationships of potential interest (as well as identifying potential collinearity before modeling).\n",
    "\n",
    "*example*:\n",
    "```python\n",
    "sns.heatmap(df.corr())\n",
    "```\n",
    "\n",
    "Please take time to format your output, adding a title. Look through some of the additional arguments and options. (Axis labels aren't really necessary, as long as the title is informative)."
   ]
  },
  {
   "cell_type": "code",
   "execution_count": null,
   "metadata": {},
   "outputs": [],
   "source": [
    "plt.figure(figsize = (12,12));\n",
    "sns.heatmap(final.corr(),\n",
    "           cmap = 'RdBu',\n",
    "           annot = True,\n",
    "           vmin = -1,\n",
    "           vmax = 1);\n",
    "plt.title('Correlation b/w every numeric feature');"
   ]
  },
  {
   "cell_type": "markdown",
   "metadata": {},
   "source": [
    "#### Define a custom function to subplot histograms\n",
    "\n",
    "We have data for two tests for two years. We only have composite (and not subtest scores) for the 2018 ACT. We should write a function that will take the names of 2+ columns and subplot histograms. While you can use pandas plotting or Seaborn here, matplotlib gives you greater control over all aspects of your plots.\n",
    "\n",
    "[Helpful Link for Plotting Multiple Figures](https://matplotlib.org/users/pyplot_tutorial.html#working-with-multiple-figures-and-axes)\n",
    "\n",
    "Here's some starter code:"
   ]
  },
  {
   "cell_type": "code",
   "execution_count": null,
   "metadata": {},
   "outputs": [],
   "source": [
    "def subplot_histograms(dataframe, list_of_columns, list_of_titles, list_of_xlabels, titlesize = 20, labelsize = 15,):\n",
    "    nrows = int(np.ceil(len(list_of_columns)/2)) # Makes sure you have enough rows\n",
    "    fig, ax = plt.subplots(nrows=nrows, ncols=2, figsize = (12,10)) # You'll want to specify your figsize\n",
    "    ax = ax.ravel() # Ravel turns a matrix into a vector, which is easier to iterate\n",
    "    \n",
    "    for i, column in enumerate(list_of_columns): # Gives us an index value to get into all our lists\n",
    "        ax[i].hist(dataframe[column]) # feel free to add more settings\n",
    "        # Set titles, labels, etc here for each subplot\n",
    "        ax[i].set_title(list_of_titles[i],fontsize = titlesize)\n",
    "        ax[i].set_xlabel(list_of_xlabels[i],fontsize = labelsize)\n",
    "        #ax[i].set_xticks(ticks = [0,10,20,30,40,50,60,70,80,90,100])\n",
    "    plt.tight_layout()\n",
    "        #xticks for ax must match the bins\n",
    "        #ax[i].set_xticks()"
   ]
  },
  {
   "cell_type": "markdown",
   "metadata": {},
   "source": [
    "#### Plot and interpret histograms \n",
    "For each of the following:\n",
    "- Participation rates for SAT & ACT\n",
    "- Math scores for SAT & ACT\n",
    "- Reading/verbal scores for SAT & ACT"
   ]
  },
  {
   "cell_type": "code",
   "execution_count": null,
   "metadata": {},
   "outputs": [],
   "source": [
    "final.columns"
   ]
  },
  {
   "cell_type": "code",
   "execution_count": null,
   "metadata": {},
   "outputs": [],
   "source": [
    "subplot_histograms(final,\n",
    "                   ['act_2017_pct_participation','sat_2017_pct_participation','act_2018_pct_participation','sat_2018_pct_participation',\n",
    "                   'act_2017_math','sat_2017_math',\n",
    "                   'act_2017_reading','sat_2017_reading_writing'],\n",
    "                   ['2017 ACT Participation Rate','2017 SAT Participation Rate','2018 ACT Participation Rate','2018 SAT Participation Rate',\n",
    "                    '2017 ACT Math Scores','2017 SAT Math Scores',\n",
    "                    '2017 ACT Reading/Writing Scores','2017 SAT Reading/Writing Scores'],\n",
    "                   ['% Participation','% Participation','% Participation','% Participation',\n",
    "                    'Math Score','Math Score',\n",
    "                    'Reading/Writing Score','Reading/Writing Score'])"
   ]
  },
  {
   "cell_type": "markdown",
   "metadata": {},
   "source": [
    "The ACT Participation Rates for 2017 and 2018 clearly show that the ACT had more states that took the test with 100% participation in the country than states with 100% participation for the SAT as is evident by the peaks closer to the 100 mark in the ACT histograms and the peaks closer to 0 in the SAT histograms. "
   ]
  },
  {
   "cell_type": "markdown",
   "metadata": {},
   "source": [
    "#### Plot and interpret scatter plots\n",
    "\n",
    "For each of the following:\n",
    "- SAT vs. ACT math scores for 2017\n",
    "- SAT vs. ACT verbal/reading scores for 2017\n",
    "- SAT vs. ACT total/composite scores for 2017\n",
    "- Total scores for SAT 2017 vs. 2018\n",
    "- Composite scores for ACT 2017 vs. 2018\n",
    "\n",
    "Plot the two variables against each other using matplotlib or Seaborn\n",
    "\n",
    "Your plots should show:\n",
    "- Two clearly labeled axes\n",
    "- A proper title\n",
    "- Using colors and symbols that are clear and unmistakable\n",
    "\n",
    "**Feel free to write a custom function, and subplot if you'd like.** Functions save both time and space.\n"
   ]
  },
  {
   "cell_type": "code",
   "execution_count": null,
   "metadata": {},
   "outputs": [],
   "source": [
    "def subplot_scatterplot(dataframe, list_of_columns_x, list_of_columns_y, list_of_titles, list_of_xlabels, list_of_ylabels,titlesize = 20, labelsize = 15):\n",
    "    nrows = int(np.ceil(len(list_of_columns_x)/2)) # Makes sure you have enough rows\n",
    "    fig, ax = plt.subplots(nrows=nrows, ncols=2, figsize = (12,6)) # You'll want to specify your figsize\n",
    "    ax = ax.ravel() # Ravel turns a matrix into a vector, which is easier to iterate\n",
    "    \n",
    "    for i, columnx in enumerate(list_of_columns_x): # Gives us an index value to get into all our lists\n",
    "        ax[i].scatter(dataframe[columnx],dataframe[list_of_columns_y[i]]) # feel free to add more settings\n",
    "        # Set titles, labels, etc here for each subplot\n",
    "        ax[i].set_title(list_of_titles[i],fontsize = titlesize)\n",
    "        ax[i].set_xlabel(list_of_xlabels[i],fontsize = labelsize)\n",
    "        ax[i].set_ylabel(list_of_ylabels[i],fontsize = labelsize)\n",
    "        \n",
    "    plt.tight_layout()"
   ]
  },
  {
   "cell_type": "code",
   "execution_count": null,
   "metadata": {},
   "outputs": [],
   "source": [
    "final.columns"
   ]
  },
  {
   "cell_type": "code",
   "execution_count": null,
   "metadata": {},
   "outputs": [],
   "source": [
    "subplot_scatterplot(final,\n",
    "                    list_of_columns_x=['sat_2017_math','sat_2017_reading_writing','sat_2017_total','act_2017_composite'],\n",
    "                    list_of_columns_y=['act_2017_math', 'act_2017_reading','sat_2018_total','act_2018_composite'],\n",
    "                    list_of_titles=['2017 SAT vs ACT Math Scores', '2017 SAT vs ACT Reading Scores','2017 vs 2018 SAT Total Score','2017 vs 2018 ACT Total Score'], \n",
    "                    list_of_xlabels=['SAT Math Score', 'SAT Reading/Writing Score','2017 Total Score','2017 Composite Score'],\n",
    "                    list_of_ylabels=['ACT Math Score','ACT Reading Score', '2018 Total Score', '2018 Composite Score'])"
   ]
  },
  {
   "cell_type": "markdown",
   "metadata": {},
   "source": [
    "The scatter plots show that while there are very clear positive correlations for year to year performance for each exam, there is no correlation in the performance of SAT scores to ACT scores in both sections of the 2017 exams. This shows that the SAT and ACT are two completely different tests and that no two math sections or english sections are alike. This gives rise to the theory of students who choose to do one test or the other do so because that is the test they are comfortable with and may not do as well on the other one if forced to do so due to a required standardized test. "
   ]
  },
  {
   "cell_type": "code",
   "execution_count": null,
   "metadata": {},
   "outputs": [],
   "source": [
    "subplot_scatterplot(final,list_of_columns_x=['sat_2017_pct_participation','sat_2018_pct_participation','act_2017_pct_participation','act_2018_pct_participation'],\n",
    "                   list_of_columns_y=['sat_2017_total','sat_2018_total','act_2017_composite','act_2018_composite'],\n",
    "                   list_of_titles= ['2017 SAT Participation vs Total Scores','2018 SAT Participation vs Total Scores','2017 ACT Participation vs Composite Scores','2018 ACT Participation vs Composite Scores'], \n",
    "                   list_of_xlabels=['% Participation','% Participation','% Participation','%Participation'],\n",
    "                   list_of_ylabels=['score','score','score','score'],titlesize = 15)\n"
   ]
  },
  {
   "cell_type": "markdown",
   "metadata": {},
   "source": [
    "The negative correlation between total/composite scores and % participation for an exam shows that there is a selection bias. States with enforced 100% participation rates performed lower overall than the students who chose to take the test in other non enforced states because the population from the former states contain more students who were forced to take the test despite not being comfortable with it. The latter states, despite having lower participation rates, had students who chose to take the test, because they were more comfortable with that test instead of the more popular test in the state. In both the SAT and ACT plots, the points towards the lower participation rates represent states with the freedom of choice for which exam to take. The points towards 100% participation represent the states with a specific exam requirement. "
   ]
  },
  {
   "cell_type": "markdown",
   "metadata": {},
   "source": [
    "#### Plot and interpret boxplots\n",
    "\n",
    "For each numeric variable in the dataframe create a boxplot using Seaborn. Boxplots demonstrate central tendency and spread in variables. In a certain sense, these are somewhat redundant with histograms, but you may be better able to identify clear outliers or differences in IQR, etc.\n",
    "\n",
    "Multiple values can be plotted to a single boxplot as long as they are of the same relative scale (meaning they have similar min/max values).\n",
    "\n",
    "Each boxplot should:\n",
    "- Only include variables of a similar scale\n",
    "- Have clear labels for each variable\n",
    "- Have appropriate titles and labels"
   ]
  },
  {
   "cell_type": "code",
   "execution_count": null,
   "metadata": {},
   "outputs": [],
   "source": [
    "SAT_total_17_18 = sns.boxplot(data = final[['sat_2017_total', 'sat_2018_total']]).set(ylabel = 'Score Range',title = '2017 vs 2018 State Mean Total Scores') "
   ]
  },
  {
   "cell_type": "markdown",
   "metadata": {},
   "source": [
    "The mean total score for the SAT in 2018 decreased slightly from 2017."
   ]
  },
  {
   "cell_type": "code",
   "execution_count": null,
   "metadata": {},
   "outputs": [],
   "source": [
    "ACT_Composite_17_18 = sns.boxplot(data = final[['act_2017_composite','act_2018_composite']]).set(ylabel = 'Score Range', title = 'Mean ACT Composite Scores 2017 vs 2018')"
   ]
  },
  {
   "cell_type": "markdown",
   "metadata": {},
   "source": [
    "The mean composite score for the ACT decreased as well slightly from 2017 to 2018."
   ]
  },
  {
   "cell_type": "code",
   "execution_count": null,
   "metadata": {},
   "outputs": [],
   "source": [
    "SAT_ACT_Participation_17 = sns.boxplot(data = final[['sat_2017_pct_participation','act_2017_pct_participation']]).set(ylabel = '% Participation',title = 'SAT vs ACT Participation Rates for 2017')"
   ]
  },
  {
   "cell_type": "markdown",
   "metadata": {},
   "source": [
    "This boxplot shows that the mean participation rates for the ACT are greater than the mean participation rates for the SAT in 2017. "
   ]
  },
  {
   "cell_type": "code",
   "execution_count": null,
   "metadata": {},
   "outputs": [],
   "source": [
    "SAT_ACT_Participation_18 = sns.boxplot(data = final[['sat_2018_pct_participation','act_2018_pct_participation']]).set(ylabel = '% Participation',title = 'SAT vs ACT Participation Rates for 2018')"
   ]
  },
  {
   "cell_type": "markdown",
   "metadata": {},
   "source": [
    "This boxplot shows that the mean participation rates for the ACT are greater than the mean participation rates for the SAT in 2018. "
   ]
  },
  {
   "cell_type": "code",
   "execution_count": null,
   "metadata": {},
   "outputs": [],
   "source": [
    "SAT_Participation_17_18 = sns.boxplot(data = final[['sat_2017_pct_participation','sat_2018_pct_participation']]).set(ylabel = '% Participation',title = 'SAT Participation Rates for 2017 vs 2018')"
   ]
  },
  {
   "cell_type": "markdown",
   "metadata": {},
   "source": [
    "The boxplot shows that the mean participation rates for the SAT in 2018 increased from 2017. "
   ]
  },
  {
   "cell_type": "code",
   "execution_count": null,
   "metadata": {},
   "outputs": [],
   "source": [
    "ACT_Participation_17_18 = sns.boxplot(data = final[['act_2017_pct_participation','act_2018_pct_participation']]).set(ylabel = 'Score Range',title = 'ACT Participation Rates for 2017 vs 2018')"
   ]
  },
  {
   "cell_type": "markdown",
   "metadata": {},
   "source": [
    "This boxplot shows that the participation rates of the ACT in 2018 decreased from 2017 slightly. This means that while there is a higher %participation for the ACT than the SAT in the country, the mean participation rates for the SAT are quickly increasing over the year while the mean participation rates for the ACT are slowly decreasing."
   ]
  },
  {
   "cell_type": "markdown",
   "metadata": {},
   "source": [
    "## Outside Research"
   ]
  },
  {
   "cell_type": "markdown",
   "metadata": {},
   "source": [
    "### States with Government Contracts and 100% Participation"
   ]
  },
  {
   "cell_type": "code",
   "execution_count": null,
   "metadata": {
    "scrolled": false
   },
   "outputs": [],
   "source": [
    "#Comparison of Participation rates of SAT between 2017 and 2018\n",
    "plt.figure(figsize = (10,10));\n",
    "\n",
    "final[['state','sat_2017_pct_participation','sat_2018_pct_participation']].sort_values(by = 'sat_2018_pct_participation', ascending = False).head(5).plot(kind = 'bar', x = 'state');\n",
    "plt.legend(loc = 'upper right')\n",
    "plt.title('SAT Participation Comparison b/w 2017 & 2018')\n",
    "plt.tight_layout()\n",
    "ax1 = plt.subplot(111)\n",
    "box = ax1.get_position()\n",
    "ax1.set_position([box.x0, box.y0, box.width*0.65, box.height])\n",
    "legend_x, legend_y = 1, 0.5\n",
    "plt.legend(loc = 'upper right', bbox_to_anchor = (legend_x,legend_y));\n"
   ]
  },
  {
   "cell_type": "markdown",
   "metadata": {},
   "source": [
    " - This chart shows states like **Connecticut** that had 100% participation for the SAT in both 2017 and 2018. This is due to certain States' Boards of Education having contracts with The College Board which makes the SAT mandatory standardized test for 11th grade students. These government paid contracts ensure that the SAT will be taken statewide which allows students from these states to take the exams for free as the registration fees are waived as a result of the contracts."
   ]
  },
  {
   "cell_type": "markdown",
   "metadata": {},
   "source": [
    "### Change in SAT ACT Participation"
   ]
  },
  {
   "cell_type": "code",
   "execution_count": null,
   "metadata": {
    "scrolled": true
   },
   "outputs": [],
   "source": [
    "final[['state','sat_2017_pct_participation','sat_2018_pct_participation','act_2017_pct_participation','act_2018_pct_participation',]].sort_values(by = 'sat_2018_pct_participation', ascending = False).head(10)"
   ]
  },
  {
   "cell_type": "markdown",
   "metadata": {},
   "source": [
    "This chart shows the change in SAT participation from 2017 to 2018 relative to the change in ACT participation from 2017 to 2018 sorted by the top 10 SAT 2018 participation rates."
   ]
  },
  {
   "cell_type": "markdown",
   "metadata": {},
   "source": [
    "- **Colorado** didn't have any federal accountability requirements for either the SAT or the ACT in 2017 but still had 100% ACT participation in 2017 due to a state contract with the ACT. However, in 2018 Colorado made the SAT the mandatory exam which yielded a 100% participation for the SAT in 2018 and knocked down the act participation for 2018 to 30%. The change was speculated by Jason Glass, superintendent of the Eagle County School District, to be made because the SAT was known to be more \"reason-based and focused on critical thinking while the ACT had a reputation for being more of a fact-recall test.\" This shows a clear effect in participation rates of both exams from year to year as a result of a state government contract with a test taking organization.\n",
    "\n",
    "**Source**:  \n",
    "[Colorado's change from ACT to the SAT](https://www.chalkbeat.org/posts/co/2015/12/23/goodbye-act-hello-sat-a-significant-change-for-colorado-high-schoolers/)"
   ]
  },
  {
   "cell_type": "code",
   "execution_count": null,
   "metadata": {},
   "outputs": [],
   "source": [
    "final[['state','sat_2017_pct_participation','sat_2018_pct_participation','act_2017_pct_participation','act_2018_pct_participation']].sort_values(by = 'sat_2018_pct_participation', ascending = True).head(20)"
   ]
  },
  {
   "cell_type": "markdown",
   "metadata": {},
   "source": [
    "This chart shows the change in SAT participation from 2017 to 2018 relative to the change in ACT participation from 2017 to 2018 sorted by the top bottom 20 SAT participation rates"
   ]
  },
  {
   "cell_type": "markdown",
   "metadata": {},
   "source": [
    "- **Iowa** is a state that shows higher participation rates for the ACT than the SAT in 2017 and 2018 but doesn't seem to have any federal or state contracts as is evident by the less than 100% rates in both tests for both years. This is an interesting observation because it shows a clear favoritism for the ACT in Iowa that is not affected by federal accountabiility or a state contract.  "
   ]
  },
  {
   "cell_type": "markdown",
   "metadata": {},
   "source": [
    "##### Sources:  \n",
    "- [States that required SAT in 2018 with Federal Accountability](https://www.testive.com/state-sat-act/)\n",
    "- [States that required SAT in 2017 with Federal Accountability](https://www.edweek.org/ew/section/multimedia/what-tests-did-each-state-require-2016-17.html) "
   ]
  },
  {
   "cell_type": "markdown",
   "metadata": {},
   "source": [
    "## Conclusions and Recommendations"
   ]
  },
  {
   "cell_type": "markdown",
   "metadata": {},
   "source": [
    "Are there additional data you desire that would better inform your investigations?"
   ]
  },
  {
   "cell_type": "code",
   "execution_count": null,
   "metadata": {},
   "outputs": [],
   "source": [
    "final.loc[final['state']== 'Iowa',['state','sat_2017_pct_participation','sat_2018_pct_participation','act_2017_pct_participation','act_2018_pct_participation']]"
   ]
  },
  {
   "cell_type": "markdown",
   "metadata": {},
   "source": [
    "Based on the data above it is evident that states with 100% participation for a test (SAT or ACT) in a given year showed an extremely low participation for the other test in the same year due to federal accountability requirements or state government contracts with a certain test organization. States like Colorado exhibited 100% participation for the SAT in years that a state contract was in place even when the ACT had 100% participation with a state contract for years prior due to merits of the SAT as an exam over the ACT. These contracts that mandate the SAT in exchange for waiving registration fees are effective methods of increasing the participation. However, the most financially efficient states to implement these contracts would be states that don't have ongoing federal or state contracts with ACT either. Iowa, for example, would be an ideal state for such a contract with TheCollegeBoard as it shows room for increase in SAT participation rates but also doesn't have an affiliation to the ACT. The best way to attain contracts with states such as Iowa would be to push the merits of the SAT exam over the ACT such as the SAT being critical thinking based while the ACT is known to be fact memorization based. This is one of the reasons why Colorado, a state that was previously affiliated with the ACT, switched to a state contract with the CollegeBoard to require the SAT. If this sort of argument can work with a state that had a previous contract, it may work even better with states that don't have contracts in place. Additionally, the redesign of the SAT exam in 2016 could be a source of further merit to negotiate state contracts but the most efficient strategy would be to target unaffiliated states first."
   ]
  },
  {
   "cell_type": "markdown",
   "metadata": {},
   "source": [
    "#### All Sources Used: \n",
    "- [What is The Collegeboard](https://www.studentdebtrelief.us/college-tips/collegeboard-org/)\n",
    "- [Colorado's change from ACT to the SAT](https://www.chalkbeat.org/posts/co/2015/12/23/goodbye-act-hello-sat-a-significant-change-for-colorado-high-schoolers/)\n",
    "- [States that required SAT in 2018 with Federal Accountability](https://www.testive.com/state-sat-act/)\n",
    "- [States that required SAT in 2017 with Federal Accountability](https://www.edweek.org/ew/section/multimedia/what-tests-did-each-state-require-2016-17.html) "
   ]
  }
 ],
 "metadata": {
  "anaconda-cloud": {},
  "kernelspec": {
   "display_name": "Python 3",
   "language": "python",
   "name": "python3"
  },
  "language_info": {
   "codemirror_mode": {
    "name": "ipython",
    "version": 3
   },
   "file_extension": ".py",
   "mimetype": "text/x-python",
   "name": "python",
   "nbconvert_exporter": "python",
   "pygments_lexer": "ipython3",
   "version": "3.7.4"
  }
 },
 "nbformat": 4,
 "nbformat_minor": 2
}
