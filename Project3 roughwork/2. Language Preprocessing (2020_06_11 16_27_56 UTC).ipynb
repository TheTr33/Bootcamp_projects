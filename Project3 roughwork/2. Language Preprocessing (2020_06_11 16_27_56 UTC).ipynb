{
 "cells": [
  {
   "cell_type": "markdown",
   "metadata": {},
   "source": [
    "# 2. Language Preprocessing\n",
    "\n",
    "##### <u> Contents </u>\n",
    "- [Language Cleaning](#Languange-Cleaning)\n",
    "- [Early EDA](#Early-EDA)"
   ]
  },
  {
   "cell_type": "code",
   "execution_count": 18,
   "metadata": {},
   "outputs": [],
   "source": [
    "import pandas as pd\n",
    "import numpy as np\n",
    "import matplotlib.pyplot as plt\n",
    "import nltk \n",
    "from nltk.corpus import stopwords\n",
    "import regex as re\n",
    "from sklearn.feature_extraction.text import CountVectorizer"
   ]
  },
  {
   "cell_type": "code",
   "execution_count": 19,
   "metadata": {
    "scrolled": true
   },
   "outputs": [
    {
     "data": {
      "text/html": [
       "<div>\n",
       "<style scoped>\n",
       "    .dataframe tbody tr th:only-of-type {\n",
       "        vertical-align: middle;\n",
       "    }\n",
       "\n",
       "    .dataframe tbody tr th {\n",
       "        vertical-align: top;\n",
       "    }\n",
       "\n",
       "    .dataframe thead th {\n",
       "        text-align: right;\n",
       "    }\n",
       "</style>\n",
       "<table border=\"1\" class=\"dataframe\">\n",
       "  <thead>\n",
       "    <tr style=\"text-align: right;\">\n",
       "      <th></th>\n",
       "      <th>title</th>\n",
       "      <th>selftext</th>\n",
       "      <th>subreddit</th>\n",
       "      <th>created_utc</th>\n",
       "      <th>author</th>\n",
       "      <th>num_comments</th>\n",
       "      <th>score</th>\n",
       "      <th>is_self</th>\n",
       "      <th>timestamp</th>\n",
       "    </tr>\n",
       "  </thead>\n",
       "  <tbody>\n",
       "    <tr>\n",
       "      <th>0</th>\n",
       "      <td>Did anyone else notice this pretty cool practi...</td>\n",
       "      <td>I've only seen the movie once, so I can't exac...</td>\n",
       "      <td>StarWars</td>\n",
       "      <td>1577751046</td>\n",
       "      <td>DoubleOhSeven68</td>\n",
       "      <td>10</td>\n",
       "      <td>1</td>\n",
       "      <td>True</td>\n",
       "      <td>2019-12-30</td>\n",
       "    </tr>\n",
       "    <tr>\n",
       "      <th>1</th>\n",
       "      <td>Anyone else fans of the Legacy comic series?</td>\n",
       "      <td>Read them a long time ago (in a library ten mi...</td>\n",
       "      <td>StarWars</td>\n",
       "      <td>1577751339</td>\n",
       "      <td>PrettyDumbHonestly</td>\n",
       "      <td>4</td>\n",
       "      <td>1</td>\n",
       "      <td>True</td>\n",
       "      <td>2019-12-30</td>\n",
       "    </tr>\n",
       "    <tr>\n",
       "      <th>2</th>\n",
       "      <td>A non Star Wars fan's thoughts on the series' ...</td>\n",
       "      <td>My wife and I went and saw RoS the other day a...</td>\n",
       "      <td>StarWars</td>\n",
       "      <td>1577751468</td>\n",
       "      <td>Mojo884ever</td>\n",
       "      <td>3</td>\n",
       "      <td>1</td>\n",
       "      <td>True</td>\n",
       "      <td>2019-12-30</td>\n",
       "    </tr>\n",
       "    <tr>\n",
       "      <th>3</th>\n",
       "      <td>Has anyone seen Red Tails? It’s Lucasfilm, 2012</td>\n",
       "      <td>A world war 2 movie for those who don’t know. ...</td>\n",
       "      <td>StarWars</td>\n",
       "      <td>1577751800</td>\n",
       "      <td>DarthCasanova</td>\n",
       "      <td>4</td>\n",
       "      <td>1</td>\n",
       "      <td>True</td>\n",
       "      <td>2019-12-30</td>\n",
       "    </tr>\n",
       "    <tr>\n",
       "      <th>4</th>\n",
       "      <td>Kathleen Kennedy taking credit for the return ...</td>\n",
       "      <td>https://www.ign.com/articles/2019/12/30/star-w...</td>\n",
       "      <td>StarWars</td>\n",
       "      <td>1577752344</td>\n",
       "      <td>killiandw</td>\n",
       "      <td>10</td>\n",
       "      <td>1</td>\n",
       "      <td>True</td>\n",
       "      <td>2019-12-30</td>\n",
       "    </tr>\n",
       "  </tbody>\n",
       "</table>\n",
       "</div>"
      ],
      "text/plain": [
       "                                               title  \\\n",
       "0  Did anyone else notice this pretty cool practi...   \n",
       "1       Anyone else fans of the Legacy comic series?   \n",
       "2  A non Star Wars fan's thoughts on the series' ...   \n",
       "3    Has anyone seen Red Tails? It’s Lucasfilm, 2012   \n",
       "4  Kathleen Kennedy taking credit for the return ...   \n",
       "\n",
       "                                            selftext subreddit  created_utc  \\\n",
       "0  I've only seen the movie once, so I can't exac...  StarWars   1577751046   \n",
       "1  Read them a long time ago (in a library ten mi...  StarWars   1577751339   \n",
       "2  My wife and I went and saw RoS the other day a...  StarWars   1577751468   \n",
       "3  A world war 2 movie for those who don’t know. ...  StarWars   1577751800   \n",
       "4  https://www.ign.com/articles/2019/12/30/star-w...  StarWars   1577752344   \n",
       "\n",
       "               author  num_comments  score  is_self   timestamp  \n",
       "0     DoubleOhSeven68            10      1     True  2019-12-30  \n",
       "1  PrettyDumbHonestly             4      1     True  2019-12-30  \n",
       "2         Mojo884ever             3      1     True  2019-12-30  \n",
       "3       DarthCasanova             4      1     True  2019-12-30  \n",
       "4           killiandw            10      1     True  2019-12-30  "
      ]
     },
     "execution_count": 19,
     "metadata": {},
     "output_type": "execute_result"
    }
   ],
   "source": [
    "scifi = pd.read_csv('./scifi.csv')\n",
    "scifi.head()"
   ]
  },
  {
   "cell_type": "code",
   "execution_count": 20,
   "metadata": {},
   "outputs": [
    {
     "data": {
      "text/plain": [
       "(2914, 9)"
      ]
     },
     "execution_count": 20,
     "metadata": {},
     "output_type": "execute_result"
    }
   ],
   "source": [
    "scifi.shape"
   ]
  },
  {
   "cell_type": "markdown",
   "metadata": {},
   "source": [
    "##### Language Cleaning"
   ]
  },
  {
   "cell_type": "markdown",
   "metadata": {},
   "source": [
    "The following function is used to remove all non alpha characters, convert remaining characters into all lowercase, and also remove basic stopwords from the nltk.corpus stopwords library from a given document in the corpus. "
   ]
  },
  {
   "cell_type": "code",
   "execution_count": 32,
   "metadata": {},
   "outputs": [],
   "source": [
    "def language_cleaning(text):\n",
    "    #removes non-letters \n",
    "    text = re.sub(\"[^a-zA-Z]\", \" \", text)       \n",
    "    #converts text into lowercase letters and splits into individual words\n",
    "    text = text.lower().split()\n",
    "    #filters out basic stopwords library from nltk.corpus from the desired text\n",
    "    basic_stops = set(stopwords.words('english'))\n",
    "    meaningful_text = [word for word in text if word not in basic_stops]\n",
    "    return(\" \".join(meaningful_text))"
   ]
  },
  {
   "cell_type": "markdown",
   "metadata": {},
   "source": [
    "The function was then looped to clean every desired document in the corpus, which in this case was the title text in the dataframe of titles."
   ]
  },
  {
   "cell_type": "code",
   "execution_count": 22,
   "metadata": {},
   "outputs": [],
   "source": [
    "scifi['title'] = scifi['title'].apply(lambda title: language_cleaning(title))"
   ]
  },
  {
   "cell_type": "markdown",
   "metadata": {},
   "source": [
    "After running the basic preprocessing, the cleaned dataframe is saved."
   ]
  },
  {
   "cell_type": "code",
   "execution_count": 23,
   "metadata": {},
   "outputs": [],
   "source": [
    "#save language processed titles to csv\n",
    "scifi.to_csv('./scifi_cleaned.csv',index = False)"
   ]
  },
  {
   "cell_type": "code",
   "execution_count": 24,
   "metadata": {},
   "outputs": [],
   "source": [
    "posts = pd.DataFrame(scifi, columns = ['title','subreddit'])"
   ]
  },
  {
   "cell_type": "code",
   "execution_count": 25,
   "metadata": {},
   "outputs": [
    {
     "data": {
      "text/html": [
       "<div>\n",
       "<style scoped>\n",
       "    .dataframe tbody tr th:only-of-type {\n",
       "        vertical-align: middle;\n",
       "    }\n",
       "\n",
       "    .dataframe tbody tr th {\n",
       "        vertical-align: top;\n",
       "    }\n",
       "\n",
       "    .dataframe thead th {\n",
       "        text-align: right;\n",
       "    }\n",
       "</style>\n",
       "<table border=\"1\" class=\"dataframe\">\n",
       "  <thead>\n",
       "    <tr style=\"text-align: right;\">\n",
       "      <th></th>\n",
       "      <th>title</th>\n",
       "      <th>subreddit</th>\n",
       "    </tr>\n",
       "  </thead>\n",
       "  <tbody>\n",
       "    <tr>\n",
       "      <th>0</th>\n",
       "      <td>anyone else notice pretty cool practical effec...</td>\n",
       "      <td>StarWars</td>\n",
       "    </tr>\n",
       "    <tr>\n",
       "      <th>1</th>\n",
       "      <td>anyone else fans legacy comic series</td>\n",
       "      <td>StarWars</td>\n",
       "    </tr>\n",
       "    <tr>\n",
       "      <th>2</th>\n",
       "      <td>non star wars fan thoughts series conclusion r...</td>\n",
       "      <td>StarWars</td>\n",
       "    </tr>\n",
       "    <tr>\n",
       "      <th>3</th>\n",
       "      <td>anyone seen red tails lucasfilm</td>\n",
       "      <td>StarWars</td>\n",
       "    </tr>\n",
       "    <tr>\n",
       "      <th>4</th>\n",
       "      <td>kathleen kennedy taking credit return palatine</td>\n",
       "      <td>StarWars</td>\n",
       "    </tr>\n",
       "  </tbody>\n",
       "</table>\n",
       "</div>"
      ],
      "text/plain": [
       "                                               title subreddit\n",
       "0  anyone else notice pretty cool practical effec...  StarWars\n",
       "1               anyone else fans legacy comic series  StarWars\n",
       "2  non star wars fan thoughts series conclusion r...  StarWars\n",
       "3                    anyone seen red tails lucasfilm  StarWars\n",
       "4     kathleen kennedy taking credit return palatine  StarWars"
      ]
     },
     "execution_count": 25,
     "metadata": {},
     "output_type": "execute_result"
    }
   ],
   "source": [
    "posts.head()"
   ]
  },
  {
   "cell_type": "code",
   "execution_count": 34,
   "metadata": {},
   "outputs": [
    {
     "data": {
      "text/plain": [
       "title        0\n",
       "subreddit    0\n",
       "dtype: int64"
      ]
     },
     "execution_count": 34,
     "metadata": {},
     "output_type": "execute_result"
    }
   ],
   "source": [
    "posts.isnull().sum() #final checks to see that nulls were cleared in both feature, and classification columns"
   ]
  },
  {
   "cell_type": "markdown",
   "metadata": {},
   "source": [
    "##### Early EDA\n",
    "In order to get an idea of potential influential words in the corpus I count-vectorized the title column and created the following visual. "
   ]
  },
  {
   "cell_type": "code",
   "execution_count": 27,
   "metadata": {},
   "outputs": [],
   "source": [
    "cvec = CountVectorizer()"
   ]
  },
  {
   "cell_type": "code",
   "execution_count": 28,
   "metadata": {},
   "outputs": [],
   "source": [
    "X = scifi['title']\n",
    "titles = cvec.fit_transform(X)"
   ]
  },
  {
   "cell_type": "code",
   "execution_count": 29,
   "metadata": {},
   "outputs": [],
   "source": [
    "title_count = pd.DataFrame(titles.toarray(),\n",
    "                          columns = cvec.get_feature_names())"
   ]
  },
  {
   "cell_type": "code",
   "execution_count": 31,
   "metadata": {},
   "outputs": [
    {
     "data": {
      "image/png": "[encoded data removed]",
      "text/plain": [
       "<Figure size 1152x720 with 1 Axes>"
      ]
     },
     "metadata": {
      "needs_background": "light"
     },
     "output_type": "display_data"
    }
   ],
   "source": [
    "title_count.sum().sort_values().tail(50).plot(kind = 'barh', figsize = (16,10))\n",
    "plt.title('Top 50 Word Counts',fontsize = 30);\n"
   ]
  },
  {
   "cell_type": "markdown",
   "metadata": {},
   "source": [
    "There is a decent distribution of non-filler words in the corpus. This shows that the stopwords library used was sufficient. \"Star\", \"Trek\", and \"wars\" are highly abundunt throughout the corpus but will be kept in for modeling as they will most likely be present in the article titles that will be fed in by the client as well. "
   ]
  },
  {
   "cell_type": "markdown",
   "metadata": {},
   "source": [
    "# Continue to Modelling and Conclusions notebook"
   ]
  }
 ],
 "metadata": {
  "kernelspec": {
   "display_name": "Python 3",
   "language": "python",
   "name": "python3"
  },
  "language_info": {
   "codemirror_mode": {
    "name": "ipython",
    "version": 3
   },
   "file_extension": ".py",
   "mimetype": "text/x-python",
   "name": "python",
   "nbconvert_exporter": "python",
   "pygments_lexer": "ipython3",
   "version": "3.7.4"
  }
 },
 "nbformat": 4,
 "nbformat_minor": 2
}
