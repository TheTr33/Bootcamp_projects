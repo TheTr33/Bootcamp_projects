{
 "cells": [
  {
   "cell_type": "markdown",
   "metadata": {},
   "source": [
    "# 1. Scraping Data using Pushshift api\n",
    "\n",
    "##### <u> Contents </u>\n",
    "- [Pulling data from subreddits](#Pulling-data-from-both-subreddits)\n",
    "- [Light Dataset Checks](#Light-Dataset-Checks)\n",
    "- [Concatenating and Saving Dataset for Language Preprocessing](Concatenating-and-Saving-Dataset-for-Language-Preprocessing)"
   ]
  },
  {
   "cell_type": "code",
   "execution_count": 1,
   "metadata": {},
   "outputs": [],
   "source": [
    "import pandas as pd\n",
    "import datetime as dt\n",
    "import time\n",
    "import requests"
   ]
  },
  {
   "cell_type": "markdown",
   "metadata": {},
   "source": [
    "The function below was given to us by Tom Ludlow in a demo for using the Pushshift api to scrape posts from specified subreddits. "
   ]
  },
  {
   "cell_type": "code",
   "execution_count": 2,
   "metadata": {},
   "outputs": [],
   "source": [
    "def query_pushshift(subreddit, kind='submission', skip=30, times=5, \n",
    "                    subfield = ['title', 'selftext', 'subreddit', 'created_utc', 'author', 'num_comments', \n",
    "                                'score', 'is_self'],\n",
    "                    comfields = ['body', 'score', 'created_utc']):\n",
    "    stem = \"https://api.pushshift.io/reddit/search/{}/?subreddit={}&size=500\".format(kind, subreddit)\n",
    "    mylist = []\n",
    "    for x in range(1, times + 1):\n",
    "        URL = \"{}&after={}d\".format(stem, skip * x)\n",
    "        print(URL)\n",
    "        response = requests.get(URL)\n",
    "        assert response.status_code == 200\n",
    "        mine = response.json()['data']\n",
    "        df = pd.DataFrame.from_dict(mine)\n",
    "        mylist.append(df)\n",
    "        time.sleep(2) #sleep throttle to slow down api pulls\n",
    "    full = pd.concat(mylist, sort=False)\n",
    "    if kind == \"submission\":\n",
    "        full = full[subfield]\n",
    "        full = full.drop_duplicates(subset = 'title')\n",
    "        full = full.loc[full['is_self'] == True]\n",
    "    def get_date(created):\n",
    "        return dt.date.fromtimestamp(created)\n",
    "    _timestamp = full[\"created_utc\"].apply(get_date)\n",
    "    full['timestamp'] = _timestamp\n",
    "    print(full.shape)\n",
    "    return full"
   ]
  },
  {
   "cell_type": "markdown",
   "metadata": {},
   "source": [
    "### Pulling data from both subreddits"
   ]
  },
  {
   "cell_type": "code",
   "execution_count": 3,
   "metadata": {},
   "outputs": [
    {
     "name": "stdout",
     "output_type": "stream",
     "text": [
      "https://api.pushshift.io/reddit/search/submission/?subreddit=StarWars&size=500&after=30d\n",
      "https://api.pushshift.io/reddit/search/submission/?subreddit=StarWars&size=500&after=60d\n",
      "https://api.pushshift.io/reddit/search/submission/?subreddit=StarWars&size=500&after=90d\n",
      "https://api.pushshift.io/reddit/search/submission/?subreddit=StarWars&size=500&after=120d\n",
      "https://api.pushshift.io/reddit/search/submission/?subreddit=StarWars&size=500&after=150d\n",
      "(1098, 9)\n"
     ]
    }
   ],
   "source": [
    "starwars = query_pushshift('StarWars')"
   ]
  },
  {
   "cell_type": "code",
   "execution_count": 4,
   "metadata": {},
   "outputs": [
    {
     "name": "stdout",
     "output_type": "stream",
     "text": [
      "https://api.pushshift.io/reddit/search/submission/?subreddit=startrek&size=500&after=30d\n",
      "https://api.pushshift.io/reddit/search/submission/?subreddit=startrek&size=500&after=60d\n",
      "https://api.pushshift.io/reddit/search/submission/?subreddit=startrek&size=500&after=90d\n",
      "https://api.pushshift.io/reddit/search/submission/?subreddit=startrek&size=500&after=120d\n",
      "https://api.pushshift.io/reddit/search/submission/?subreddit=startrek&size=500&after=150d\n",
      "(1816, 9)\n"
     ]
    }
   ],
   "source": [
    "startrek = query_pushshift('startrek')"
   ]
  },
  {
   "cell_type": "markdown",
   "metadata": {},
   "source": [
    "### Light Dataset Checks"
   ]
  },
  {
   "cell_type": "code",
   "execution_count": 5,
   "metadata": {},
   "outputs": [
    {
     "data": {
      "text/html": [
       "<div>\n",
       "<style scoped>\n",
       "    .dataframe tbody tr th:only-of-type {\n",
       "        vertical-align: middle;\n",
       "    }\n",
       "\n",
       "    .dataframe tbody tr th {\n",
       "        vertical-align: top;\n",
       "    }\n",
       "\n",
       "    .dataframe thead th {\n",
       "        text-align: right;\n",
       "    }\n",
       "</style>\n",
       "<table border=\"1\" class=\"dataframe\">\n",
       "  <thead>\n",
       "    <tr style=\"text-align: right;\">\n",
       "      <th></th>\n",
       "      <th>title</th>\n",
       "      <th>selftext</th>\n",
       "      <th>subreddit</th>\n",
       "      <th>created_utc</th>\n",
       "      <th>author</th>\n",
       "      <th>num_comments</th>\n",
       "      <th>score</th>\n",
       "      <th>is_self</th>\n",
       "      <th>timestamp</th>\n",
       "    </tr>\n",
       "  </thead>\n",
       "  <tbody>\n",
       "    <tr>\n",
       "      <th>1</th>\n",
       "      <td>Did anyone else notice this pretty cool practi...</td>\n",
       "      <td>I've only seen the movie once, so I can't exac...</td>\n",
       "      <td>StarWars</td>\n",
       "      <td>1577751046</td>\n",
       "      <td>DoubleOhSeven68</td>\n",
       "      <td>10</td>\n",
       "      <td>1</td>\n",
       "      <td>True</td>\n",
       "      <td>2019-12-30</td>\n",
       "    </tr>\n",
       "    <tr>\n",
       "      <th>2</th>\n",
       "      <td>Anyone else fans of the Legacy comic series?</td>\n",
       "      <td>Read them a long time ago (in a library ten mi...</td>\n",
       "      <td>StarWars</td>\n",
       "      <td>1577751339</td>\n",
       "      <td>PrettyDumbHonestly</td>\n",
       "      <td>4</td>\n",
       "      <td>1</td>\n",
       "      <td>True</td>\n",
       "      <td>2019-12-30</td>\n",
       "    </tr>\n",
       "    <tr>\n",
       "      <th>4</th>\n",
       "      <td>A non Star Wars fan's thoughts on the series' ...</td>\n",
       "      <td>My wife and I went and saw RoS the other day a...</td>\n",
       "      <td>StarWars</td>\n",
       "      <td>1577751468</td>\n",
       "      <td>Mojo884ever</td>\n",
       "      <td>3</td>\n",
       "      <td>1</td>\n",
       "      <td>True</td>\n",
       "      <td>2019-12-30</td>\n",
       "    </tr>\n",
       "    <tr>\n",
       "      <th>6</th>\n",
       "      <td>Has anyone seen Red Tails? It’s Lucasfilm, 2012</td>\n",
       "      <td>A world war 2 movie for those who don’t know. ...</td>\n",
       "      <td>StarWars</td>\n",
       "      <td>1577751800</td>\n",
       "      <td>DarthCasanova</td>\n",
       "      <td>4</td>\n",
       "      <td>1</td>\n",
       "      <td>True</td>\n",
       "      <td>2019-12-30</td>\n",
       "    </tr>\n",
       "    <tr>\n",
       "      <th>8</th>\n",
       "      <td>Kathleen Kennedy taking credit for the return ...</td>\n",
       "      <td>https://www.ign.com/articles/2019/12/30/star-w...</td>\n",
       "      <td>StarWars</td>\n",
       "      <td>1577752344</td>\n",
       "      <td>killiandw</td>\n",
       "      <td>10</td>\n",
       "      <td>1</td>\n",
       "      <td>True</td>\n",
       "      <td>2019-12-30</td>\n",
       "    </tr>\n",
       "  </tbody>\n",
       "</table>\n",
       "</div>"
      ],
      "text/plain": [
       "                                               title  \\\n",
       "1  Did anyone else notice this pretty cool practi...   \n",
       "2       Anyone else fans of the Legacy comic series?   \n",
       "4  A non Star Wars fan's thoughts on the series' ...   \n",
       "6    Has anyone seen Red Tails? It’s Lucasfilm, 2012   \n",
       "8  Kathleen Kennedy taking credit for the return ...   \n",
       "\n",
       "                                            selftext subreddit  created_utc  \\\n",
       "1  I've only seen the movie once, so I can't exac...  StarWars   1577751046   \n",
       "2  Read them a long time ago (in a library ten mi...  StarWars   1577751339   \n",
       "4  My wife and I went and saw RoS the other day a...  StarWars   1577751468   \n",
       "6  A world war 2 movie for those who don’t know. ...  StarWars   1577751800   \n",
       "8  https://www.ign.com/articles/2019/12/30/star-w...  StarWars   1577752344   \n",
       "\n",
       "               author  num_comments  score  is_self   timestamp  \n",
       "1     DoubleOhSeven68            10      1     True  2019-12-30  \n",
       "2  PrettyDumbHonestly             4      1     True  2019-12-30  \n",
       "4         Mojo884ever             3      1     True  2019-12-30  \n",
       "6       DarthCasanova             4      1     True  2019-12-30  \n",
       "8           killiandw            10      1     True  2019-12-30  "
      ]
     },
     "execution_count": 5,
     "metadata": {},
     "output_type": "execute_result"
    }
   ],
   "source": [
    "starwars.head()"
   ]
  },
  {
   "cell_type": "code",
   "execution_count": 6,
   "metadata": {},
   "outputs": [
    {
     "data": {
      "text/html": [
       "<div>\n",
       "<style scoped>\n",
       "    .dataframe tbody tr th:only-of-type {\n",
       "        vertical-align: middle;\n",
       "    }\n",
       "\n",
       "    .dataframe tbody tr th {\n",
       "        vertical-align: top;\n",
       "    }\n",
       "\n",
       "    .dataframe thead th {\n",
       "        text-align: right;\n",
       "    }\n",
       "</style>\n",
       "<table border=\"1\" class=\"dataframe\">\n",
       "  <thead>\n",
       "    <tr style=\"text-align: right;\">\n",
       "      <th></th>\n",
       "      <th>title</th>\n",
       "      <th>selftext</th>\n",
       "      <th>subreddit</th>\n",
       "      <th>created_utc</th>\n",
       "      <th>author</th>\n",
       "      <th>num_comments</th>\n",
       "      <th>score</th>\n",
       "      <th>is_self</th>\n",
       "      <th>timestamp</th>\n",
       "    </tr>\n",
       "  </thead>\n",
       "  <tbody>\n",
       "    <tr>\n",
       "      <th>0</th>\n",
       "      <td>What's the music genre called that Nic Fontain...</td>\n",
       "      <td>This Frank Sinatra kind of music.</td>\n",
       "      <td>startrek</td>\n",
       "      <td>1577751121</td>\n",
       "      <td>AdligerAdler</td>\n",
       "      <td>15</td>\n",
       "      <td>1</td>\n",
       "      <td>True</td>\n",
       "      <td>2019-12-30</td>\n",
       "    </tr>\n",
       "    <tr>\n",
       "      <th>3</th>\n",
       "      <td>Which episode has the worst/dumbest moral? (Be...</td>\n",
       "      <td>My money's on Cogenitor from ENT. Trip discove...</td>\n",
       "      <td>startrek</td>\n",
       "      <td>1577751484</td>\n",
       "      <td>Z80-A</td>\n",
       "      <td>526</td>\n",
       "      <td>1</td>\n",
       "      <td>True</td>\n",
       "      <td>2019-12-30</td>\n",
       "    </tr>\n",
       "    <tr>\n",
       "      <th>4</th>\n",
       "      <td>Ds9 mirror mic Fontaine and Picard?</td>\n",
       "      <td>Is there an in universe explanation of why mir...</td>\n",
       "      <td>startrek</td>\n",
       "      <td>1577753150</td>\n",
       "      <td>richterman2369</td>\n",
       "      <td>4</td>\n",
       "      <td>1</td>\n",
       "      <td>True</td>\n",
       "      <td>2019-12-30</td>\n",
       "    </tr>\n",
       "    <tr>\n",
       "      <th>6</th>\n",
       "      <td>[Spoilers-Picard] Are these guys suppose to be...</td>\n",
       "      <td>https://imgur.com/CzznXX9</td>\n",
       "      <td>startrek</td>\n",
       "      <td>1577756248</td>\n",
       "      <td>InadequateUsername</td>\n",
       "      <td>4</td>\n",
       "      <td>1</td>\n",
       "      <td>True</td>\n",
       "      <td>2019-12-30</td>\n",
       "    </tr>\n",
       "    <tr>\n",
       "      <th>7</th>\n",
       "      <td>The uniforms in Picard are annoying me.</td>\n",
       "      <td>They went backward. To put it in perspective f...</td>\n",
       "      <td>startrek</td>\n",
       "      <td>1577757269</td>\n",
       "      <td>YoviQ</td>\n",
       "      <td>26</td>\n",
       "      <td>1</td>\n",
       "      <td>True</td>\n",
       "      <td>2019-12-30</td>\n",
       "    </tr>\n",
       "  </tbody>\n",
       "</table>\n",
       "</div>"
      ],
      "text/plain": [
       "                                               title  \\\n",
       "0  What's the music genre called that Nic Fontain...   \n",
       "3  Which episode has the worst/dumbest moral? (Be...   \n",
       "4                Ds9 mirror mic Fontaine and Picard?   \n",
       "6  [Spoilers-Picard] Are these guys suppose to be...   \n",
       "7            The uniforms in Picard are annoying me.   \n",
       "\n",
       "                                            selftext subreddit  created_utc  \\\n",
       "0                  This Frank Sinatra kind of music.  startrek   1577751121   \n",
       "3  My money's on Cogenitor from ENT. Trip discove...  startrek   1577751484   \n",
       "4  Is there an in universe explanation of why mir...  startrek   1577753150   \n",
       "6                          https://imgur.com/CzznXX9  startrek   1577756248   \n",
       "7  They went backward. To put it in perspective f...  startrek   1577757269   \n",
       "\n",
       "               author  num_comments  score  is_self   timestamp  \n",
       "0        AdligerAdler            15      1     True  2019-12-30  \n",
       "3               Z80-A           526      1     True  2019-12-30  \n",
       "4      richterman2369             4      1     True  2019-12-30  \n",
       "6  InadequateUsername             4      1     True  2019-12-30  \n",
       "7               YoviQ            26      1     True  2019-12-30  "
      ]
     },
     "execution_count": 6,
     "metadata": {},
     "output_type": "execute_result"
    }
   ],
   "source": [
    "startrek.head()"
   ]
  },
  {
   "cell_type": "markdown",
   "metadata": {},
   "source": [
    "The data that will be used to populate the corpus in the modeling will be taken from the `title` column in both datasets so I will run some rudimentary checks for null values, as well as tags like `[removed]`, and `[deleted]` in the `title` column which imply missing data and posts that have been taken down by the moderator of the subreddits for various reasons."
   ]
  },
  {
   "cell_type": "code",
   "execution_count": 7,
   "metadata": {},
   "outputs": [
    {
     "data": {
      "text/plain": [
       "0"
      ]
     },
     "execution_count": 7,
     "metadata": {},
     "output_type": "execute_result"
    }
   ],
   "source": [
    "startrek['title'].isnull().sum()"
   ]
  },
  {
   "cell_type": "code",
   "execution_count": 8,
   "metadata": {},
   "outputs": [
    {
     "data": {
      "text/plain": [
       "0"
      ]
     },
     "execution_count": 8,
     "metadata": {},
     "output_type": "execute_result"
    }
   ],
   "source": [
    "starwars['title'].isnull().sum()"
   ]
  },
  {
   "cell_type": "code",
   "execution_count": 9,
   "metadata": {},
   "outputs": [
    {
     "data": {
      "text/plain": [
       "0"
      ]
     },
     "execution_count": 9,
     "metadata": {},
     "output_type": "execute_result"
    }
   ],
   "source": [
    "startrek['title'][(startrek['title']=='[removed]') & (startrek['title']=='[deleted]')].sum()"
   ]
  },
  {
   "cell_type": "code",
   "execution_count": 10,
   "metadata": {},
   "outputs": [
    {
     "data": {
      "text/plain": [
       "0"
      ]
     },
     "execution_count": 10,
     "metadata": {},
     "output_type": "execute_result"
    }
   ],
   "source": [
    "starwars['title'][(starwars['title']=='[removed]') & (starwars['title']=='[deleted]')].sum()"
   ]
  },
  {
   "cell_type": "markdown",
   "metadata": {},
   "source": [
    "There are no evident nulls or values that should be deemed nulls such as `[removed]` or `[deleted]` so the datasets can be concatenated and saved for future analysis. "
   ]
  },
  {
   "cell_type": "markdown",
   "metadata": {},
   "source": [
    "### Concatenating and Saving Dataset for Language Preprocessing"
   ]
  },
  {
   "cell_type": "code",
   "execution_count": 11,
   "metadata": {},
   "outputs": [],
   "source": [
    "scifi = pd.concat([starwars,startrek], axis = 0)"
   ]
  },
  {
   "cell_type": "code",
   "execution_count": 12,
   "metadata": {},
   "outputs": [
    {
     "data": {
      "text/plain": [
       "startrek    1816\n",
       "StarWars    1098\n",
       "Name: subreddit, dtype: int64"
      ]
     },
     "execution_count": 12,
     "metadata": {},
     "output_type": "execute_result"
    }
   ],
   "source": [
    "scifi.subreddit.value_counts() #shows that both datasets have been concatenated."
   ]
  },
  {
   "cell_type": "code",
   "execution_count": 13,
   "metadata": {},
   "outputs": [],
   "source": [
    "# Saved concatenated dataset to csv file\n",
    "scifi.to_csv('./scifi.csv',index = False)"
   ]
  },
  {
   "cell_type": "code",
   "execution_count": 14,
   "metadata": {},
   "outputs": [],
   "source": [
    "scifi = pd.read_csv('./scifi.csv')"
   ]
  },
  {
   "cell_type": "code",
   "execution_count": 15,
   "metadata": {},
   "outputs": [
    {
     "data": {
      "text/html": [
       "<div>\n",
       "<style scoped>\n",
       "    .dataframe tbody tr th:only-of-type {\n",
       "        vertical-align: middle;\n",
       "    }\n",
       "\n",
       "    .dataframe tbody tr th {\n",
       "        vertical-align: top;\n",
       "    }\n",
       "\n",
       "    .dataframe thead th {\n",
       "        text-align: right;\n",
       "    }\n",
       "</style>\n",
       "<table border=\"1\" class=\"dataframe\">\n",
       "  <thead>\n",
       "    <tr style=\"text-align: right;\">\n",
       "      <th></th>\n",
       "      <th>title</th>\n",
       "      <th>selftext</th>\n",
       "      <th>subreddit</th>\n",
       "      <th>created_utc</th>\n",
       "      <th>author</th>\n",
       "      <th>num_comments</th>\n",
       "      <th>score</th>\n",
       "      <th>is_self</th>\n",
       "      <th>timestamp</th>\n",
       "    </tr>\n",
       "  </thead>\n",
       "  <tbody>\n",
       "    <tr>\n",
       "      <th>0</th>\n",
       "      <td>Did anyone else notice this pretty cool practi...</td>\n",
       "      <td>I've only seen the movie once, so I can't exac...</td>\n",
       "      <td>StarWars</td>\n",
       "      <td>1577751046</td>\n",
       "      <td>DoubleOhSeven68</td>\n",
       "      <td>10</td>\n",
       "      <td>1</td>\n",
       "      <td>True</td>\n",
       "      <td>2019-12-30</td>\n",
       "    </tr>\n",
       "    <tr>\n",
       "      <th>1</th>\n",
       "      <td>Anyone else fans of the Legacy comic series?</td>\n",
       "      <td>Read them a long time ago (in a library ten mi...</td>\n",
       "      <td>StarWars</td>\n",
       "      <td>1577751339</td>\n",
       "      <td>PrettyDumbHonestly</td>\n",
       "      <td>4</td>\n",
       "      <td>1</td>\n",
       "      <td>True</td>\n",
       "      <td>2019-12-30</td>\n",
       "    </tr>\n",
       "    <tr>\n",
       "      <th>2</th>\n",
       "      <td>A non Star Wars fan's thoughts on the series' ...</td>\n",
       "      <td>My wife and I went and saw RoS the other day a...</td>\n",
       "      <td>StarWars</td>\n",
       "      <td>1577751468</td>\n",
       "      <td>Mojo884ever</td>\n",
       "      <td>3</td>\n",
       "      <td>1</td>\n",
       "      <td>True</td>\n",
       "      <td>2019-12-30</td>\n",
       "    </tr>\n",
       "    <tr>\n",
       "      <th>3</th>\n",
       "      <td>Has anyone seen Red Tails? It’s Lucasfilm, 2012</td>\n",
       "      <td>A world war 2 movie for those who don’t know. ...</td>\n",
       "      <td>StarWars</td>\n",
       "      <td>1577751800</td>\n",
       "      <td>DarthCasanova</td>\n",
       "      <td>4</td>\n",
       "      <td>1</td>\n",
       "      <td>True</td>\n",
       "      <td>2019-12-30</td>\n",
       "    </tr>\n",
       "    <tr>\n",
       "      <th>4</th>\n",
       "      <td>Kathleen Kennedy taking credit for the return ...</td>\n",
       "      <td>https://www.ign.com/articles/2019/12/30/star-w...</td>\n",
       "      <td>StarWars</td>\n",
       "      <td>1577752344</td>\n",
       "      <td>killiandw</td>\n",
       "      <td>10</td>\n",
       "      <td>1</td>\n",
       "      <td>True</td>\n",
       "      <td>2019-12-30</td>\n",
       "    </tr>\n",
       "  </tbody>\n",
       "</table>\n",
       "</div>"
      ],
      "text/plain": [
       "                                               title  \\\n",
       "0  Did anyone else notice this pretty cool practi...   \n",
       "1       Anyone else fans of the Legacy comic series?   \n",
       "2  A non Star Wars fan's thoughts on the series' ...   \n",
       "3    Has anyone seen Red Tails? It’s Lucasfilm, 2012   \n",
       "4  Kathleen Kennedy taking credit for the return ...   \n",
       "\n",
       "                                            selftext subreddit  created_utc  \\\n",
       "0  I've only seen the movie once, so I can't exac...  StarWars   1577751046   \n",
       "1  Read them a long time ago (in a library ten mi...  StarWars   1577751339   \n",
       "2  My wife and I went and saw RoS the other day a...  StarWars   1577751468   \n",
       "3  A world war 2 movie for those who don’t know. ...  StarWars   1577751800   \n",
       "4  https://www.ign.com/articles/2019/12/30/star-w...  StarWars   1577752344   \n",
       "\n",
       "               author  num_comments  score  is_self   timestamp  \n",
       "0     DoubleOhSeven68            10      1     True  2019-12-30  \n",
       "1  PrettyDumbHonestly             4      1     True  2019-12-30  \n",
       "2         Mojo884ever             3      1     True  2019-12-30  \n",
       "3       DarthCasanova             4      1     True  2019-12-30  \n",
       "4           killiandw            10      1     True  2019-12-30  "
      ]
     },
     "execution_count": 15,
     "metadata": {},
     "output_type": "execute_result"
    }
   ],
   "source": [
    "scifi.head()"
   ]
  },
  {
   "cell_type": "code",
   "execution_count": 18,
   "metadata": {},
   "outputs": [
    {
     "data": {
      "text/plain": [
       "startrek    0.623198\n",
       "StarWars    0.376802\n",
       "Name: subreddit, dtype: float64"
      ]
     },
     "execution_count": 18,
     "metadata": {},
     "output_type": "execute_result"
    }
   ],
   "source": [
    "scifi['subreddit'].value_counts(normalize = True)"
   ]
  },
  {
   "cell_type": "markdown",
   "metadata": {},
   "source": [
    "# Please continue to the Language Preprocessing notebook."
   ]
  }
 ],
 "metadata": {
  "kernelspec": {
   "display_name": "Python 3",
   "language": "python",
   "name": "python3"
  },
  "language_info": {
   "codemirror_mode": {
    "name": "ipython",
    "version": 3
   },
   "file_extension": ".py",
   "mimetype": "text/x-python",
   "name": "python",
   "nbconvert_exporter": "python",
   "pygments_lexer": "ipython3",
   "version": "3.7.4"
  }
 },
 "nbformat": 4,
 "nbformat_minor": 2
}
