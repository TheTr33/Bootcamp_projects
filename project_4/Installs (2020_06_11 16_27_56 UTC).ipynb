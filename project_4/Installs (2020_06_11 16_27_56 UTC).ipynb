{
 "cells": [
  {
   "cell_type": "code",
   "execution_count": 2,
   "metadata": {},
   "outputs": [
    {
     "data": {
      "text/html": [
       "<div>\n",
       "<style scoped>\n",
       "    .dataframe tbody tr th:only-of-type {\n",
       "        vertical-align: middle;\n",
       "    }\n",
       "\n",
       "    .dataframe tbody tr th {\n",
       "        vertical-align: top;\n",
       "    }\n",
       "\n",
       "    .dataframe thead th {\n",
       "        text-align: right;\n",
       "    }\n",
       "</style>\n",
       "<table border=\"1\" class=\"dataframe\">\n",
       "  <thead>\n",
       "    <tr style=\"text-align: right;\">\n",
       "      <th></th>\n",
       "      <th>id</th>\n",
       "      <th>name</th>\n",
       "      <th>created_at</th>\n",
       "      <th>updated_at</th>\n",
       "    </tr>\n",
       "  </thead>\n",
       "  <tbody>\n",
       "    <tr>\n",
       "      <th>0</th>\n",
       "      <td>1</td>\n",
       "      <td>A&amp;W Restaurants</td>\n",
       "      <td>2017-04-17 19:43:26.708904</td>\n",
       "      <td>2017-04-17 19:43:26.708904</td>\n",
       "    </tr>\n",
       "    <tr>\n",
       "      <th>1</th>\n",
       "      <td>2</td>\n",
       "      <td>Applebee's</td>\n",
       "      <td>2017-04-17 19:43:30.306405</td>\n",
       "      <td>2017-04-17 19:43:30.306405</td>\n",
       "    </tr>\n",
       "    <tr>\n",
       "      <th>2</th>\n",
       "      <td>3</td>\n",
       "      <td>Arby's</td>\n",
       "      <td>2017-04-17 19:43:35.190138</td>\n",
       "      <td>2017-04-17 19:43:35.190138</td>\n",
       "    </tr>\n",
       "    <tr>\n",
       "      <th>3</th>\n",
       "      <td>4</td>\n",
       "      <td>Atlanta Bread Company</td>\n",
       "      <td>2017-04-17 19:43:38.028008</td>\n",
       "      <td>2017-04-17 19:43:38.028008</td>\n",
       "    </tr>\n",
       "    <tr>\n",
       "      <th>4</th>\n",
       "      <td>5</td>\n",
       "      <td>Bojangle's Famous Chicken 'n Biscuits</td>\n",
       "      <td>2017-04-17 19:43:42.123451</td>\n",
       "      <td>2017-04-17 19:43:42.123451</td>\n",
       "    </tr>\n",
       "  </tbody>\n",
       "</table>\n",
       "</div>"
      ],
      "text/plain": [
       "   id                                   name                 created_at  \\\n",
       "0   1                        A&W Restaurants 2017-04-17 19:43:26.708904   \n",
       "1   2                             Applebee's 2017-04-17 19:43:30.306405   \n",
       "2   3                                 Arby's 2017-04-17 19:43:35.190138   \n",
       "3   4                  Atlanta Bread Company 2017-04-17 19:43:38.028008   \n",
       "4   5  Bojangle's Famous Chicken 'n Biscuits 2017-04-17 19:43:42.123451   \n",
       "\n",
       "                  updated_at  \n",
       "0 2017-04-17 19:43:26.708904  \n",
       "1 2017-04-17 19:43:30.306405  \n",
       "2 2017-04-17 19:43:35.190138  \n",
       "3 2017-04-17 19:43:38.028008  \n",
       "4 2017-04-17 19:43:42.123451  "
      ]
     },
     "execution_count": 2,
     "metadata": {},
     "output_type": "execute_result"
    }
   ],
   "source": [
    "import pandas as pd\n",
    "from sqlalchemy import create_engine\n",
    "engine = create_engine('postgres://DSI8:p3c1341f0f241ef04befd0f0b3acc0365eb30839b9408f9a9b3278d96966f34b8@ec2-34-202-213-35.compute-1.amazonaws.com:5432/dc5rooirs71hh0')\n",
    "sql = \"\"\"\n",
    "SELECT *\n",
    "FROM restaurants\n",
    "\"\"\"\n",
    "df = pd.read_sql_query(sql, engine)\n",
    "df.head()"
   ]
  },
  {
   "cell_type": "code",
   "execution_count": null,
   "metadata": {},
   "outputs": [],
   "source": []
  }
 ],
 "metadata": {
  "kernelspec": {
   "display_name": "Python 3",
   "language": "python",
   "name": "python3"
  },
  "language_info": {
   "codemirror_mode": {
    "name": "ipython",
    "version": 3
   },
   "file_extension": ".py",
   "mimetype": "text/x-python",
   "name": "python",
   "nbconvert_exporter": "python",
   "pygments_lexer": "ipython3",
   "version": "3.7.4"
  }
 },
 "nbformat": 4,
 "nbformat_minor": 2
}
